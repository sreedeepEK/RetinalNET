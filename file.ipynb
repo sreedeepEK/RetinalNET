{
 "cells": [
  {
   "cell_type": "markdown",
   "metadata": {},
   "source": [
    "Loading necessary Libraries"
   ]
  },
  {
   "cell_type": "code",
   "execution_count": 1,
   "metadata": {},
   "outputs": [],
   "source": [
    "import os \n",
    "import torch\n",
    "import torchvision\n",
    "from torch import nn \n"
   ]
  },
  {
   "cell_type": "code",
   "execution_count": 2,
   "metadata": {},
   "outputs": [
    {
     "data": {
      "text/plain": [
       "'cuda'"
      ]
     },
     "execution_count": 2,
     "metadata": {},
     "output_type": "execute_result"
    }
   ],
   "source": [
    "device = \"cuda\" if torch.cuda.is_available() else \"cpu\"\n",
    "device"
   ]
  },
  {
   "cell_type": "markdown",
   "metadata": {},
   "source": [
    "Train,Test path"
   ]
  },
  {
   "cell_type": "code",
   "execution_count": 3,
   "metadata": {},
   "outputs": [
    {
     "data": {
      "text/plain": [
       "('data\\\\retinal_oct\\\\test', 'data\\\\retinal_oct\\\\train')"
      ]
     },
     "execution_count": 3,
     "metadata": {},
     "output_type": "execute_result"
    }
   ],
   "source": [
    "train_dir = \"data\\\\retinal_oct\\\\train\"\n",
    "test_dir = \"data\\\\retinal_oct\\\\test\"\n",
    "test_dir, train_dir"
   ]
  },
  {
   "cell_type": "markdown",
   "metadata": {},
   "source": [
    "Printing classnames"
   ]
  },
  {
   "cell_type": "code",
   "execution_count": 4,
   "metadata": {},
   "outputs": [
    {
     "name": "stdout",
     "output_type": "stream",
     "text": [
      "['CNV', 'DME', 'DRUSEN', 'NORMAL']\n",
      "['CNV', 'DME', 'DRUSEN', 'NORMAL']\n"
     ]
    }
   ],
   "source": [
    "print(os.listdir(train_dir))\n",
    "print(os.listdir(test_dir))"
   ]
  },
  {
   "cell_type": "code",
   "execution_count": 5,
   "metadata": {},
   "outputs": [],
   "source": [
    "from torch.utils.data import DataLoader\n",
    "from torchvision import datasets,transforms"
   ]
  },
  {
   "cell_type": "markdown",
   "metadata": {},
   "source": [
    "Creating data transforms"
   ]
  },
  {
   "cell_type": "code",
   "execution_count": 6,
   "metadata": {},
   "outputs": [],
   "source": [
    "data_transform = transforms.Compose([\n",
    "    transforms.Resize(size=(224,224)),\n",
    "    transforms.RandomHorizontalFlip(p=0.5),\n",
    "    transforms.ToTensor()\n",
    "])"
   ]
  },
  {
   "cell_type": "code",
   "execution_count": 7,
   "metadata": {},
   "outputs": [
    {
     "data": {
      "text/plain": [
       "Compose(\n",
       "    Resize(size=(224, 224), interpolation=bilinear, max_size=None, antialias=True)\n",
       "    RandomHorizontalFlip(p=0.5)\n",
       "    ToTensor()\n",
       ")"
      ]
     },
     "execution_count": 7,
     "metadata": {},
     "output_type": "execute_result"
    }
   ],
   "source": [
    "data_transform"
   ]
  },
  {
   "cell_type": "markdown",
   "metadata": {},
   "source": [
    "Turning images into pytorch tensors"
   ]
  },
  {
   "cell_type": "code",
   "execution_count": 8,
   "metadata": {},
   "outputs": [
    {
     "name": "stdout",
     "output_type": "stream",
     "text": [
      "Train data: \n",
      "Dataset ImageFolder\n",
      "    Number of datapoints: 13720\n",
      "    Root location: data\\retinal_oct\\train\n",
      "    StandardTransform\n",
      "Transform: Compose(\n",
      "               Resize(size=(224, 224), interpolation=bilinear, max_size=None, antialias=True)\n",
      "               RandomHorizontalFlip(p=0.5)\n",
      "               ToTensor()\n",
      "           )\n",
      " Test data: \n",
      " Dataset ImageFolder\n",
      "    Number of datapoints: 973\n",
      "    Root location: data\\retinal_oct\\test\n",
      "    StandardTransform\n",
      "Transform: Compose(\n",
      "               Resize(size=(224, 224), interpolation=bilinear, max_size=None, antialias=True)\n",
      "               RandomHorizontalFlip(p=0.5)\n",
      "               ToTensor()\n",
      "           )\n"
     ]
    }
   ],
   "source": [
    "from torchvision import datasets\n",
    "train_data = datasets.ImageFolder(root=train_dir,\n",
    "                                    transform= data_transform,\n",
    "                                    target_transform=None)\n",
    "\n",
    "test_data = datasets.ImageFolder(root=test_dir,\n",
    "                                    transform=data_transform,\n",
    "                                    target_transform=None)\n",
    "\n",
    "print(f\"Train data: \\n{train_data}\\n Test data: \\n {test_data}\")"
   ]
  },
  {
   "cell_type": "code",
   "execution_count": 9,
   "metadata": {},
   "outputs": [
    {
     "data": {
      "text/plain": [
       "['CNV', 'DME', 'DRUSEN', 'NORMAL']"
      ]
     },
     "execution_count": 9,
     "metadata": {},
     "output_type": "execute_result"
    }
   ],
   "source": [
    "class_names = train_data.classes\n",
    "class_names"
   ]
  },
  {
   "cell_type": "code",
   "execution_count": 10,
   "metadata": {},
   "outputs": [
    {
     "data": {
      "text/plain": [
       "{'CNV': 0, 'DME': 1, 'DRUSEN': 2, 'NORMAL': 3}"
      ]
     },
     "execution_count": 10,
     "metadata": {},
     "output_type": "execute_result"
    }
   ],
   "source": [
    "class_dict = train_data.class_to_idx\n",
    "class_dict"
   ]
  },
  {
   "cell_type": "code",
   "execution_count": 11,
   "metadata": {},
   "outputs": [
    {
     "name": "stdout",
     "output_type": "stream",
     "text": [
      "Image tensor:\n",
      "tensor([[[0.0000, 0.0510, 0.0314,  ..., 0.0510, 0.0431, 0.0078],\n",
      "         [0.0471, 0.0745, 0.0745,  ..., 0.0627, 0.0588, 0.0275],\n",
      "         [0.0980, 0.0667, 0.0863,  ..., 0.0745, 0.0745, 0.0392],\n",
      "         ...,\n",
      "         [0.0196, 0.0235, 0.0235,  ..., 0.0353, 0.0235, 0.0000],\n",
      "         [0.0235, 0.0235, 0.0275,  ..., 0.0314, 0.0196, 0.0000],\n",
      "         [0.0275, 0.0275, 0.0275,  ..., 0.0275, 0.0157, 0.0000]],\n",
      "\n",
      "        [[0.0000, 0.0510, 0.0314,  ..., 0.0510, 0.0431, 0.0078],\n",
      "         [0.0471, 0.0745, 0.0745,  ..., 0.0627, 0.0588, 0.0275],\n",
      "         [0.0980, 0.0667, 0.0863,  ..., 0.0745, 0.0745, 0.0392],\n",
      "         ...,\n",
      "         [0.0196, 0.0235, 0.0235,  ..., 0.0353, 0.0235, 0.0000],\n",
      "         [0.0235, 0.0235, 0.0275,  ..., 0.0314, 0.0196, 0.0000],\n",
      "         [0.0275, 0.0275, 0.0275,  ..., 0.0275, 0.0157, 0.0000]],\n",
      "\n",
      "        [[0.0000, 0.0510, 0.0314,  ..., 0.0510, 0.0431, 0.0078],\n",
      "         [0.0471, 0.0745, 0.0745,  ..., 0.0627, 0.0588, 0.0275],\n",
      "         [0.0980, 0.0667, 0.0863,  ..., 0.0745, 0.0745, 0.0392],\n",
      "         ...,\n",
      "         [0.0196, 0.0235, 0.0235,  ..., 0.0353, 0.0235, 0.0000],\n",
      "         [0.0235, 0.0235, 0.0275,  ..., 0.0314, 0.0196, 0.0000],\n",
      "         [0.0275, 0.0275, 0.0275,  ..., 0.0275, 0.0157, 0.0000]]])\n",
      "Image shape: torch.Size([3, 224, 224])\n",
      "Image datatype: torch.float32\n",
      "Image label: 0\n",
      "Label datatype: <class 'int'>\n"
     ]
    }
   ],
   "source": [
    "img, label = train_data[0][0], train_data[0][1]\n",
    "print(f\"Image tensor:\\n{img}\")\n",
    "print(f\"Image shape: {img.shape}\")\n",
    "print(f\"Image datatype: {img.dtype}\")\n",
    "print(f\"Image label: {label}\")\n",
    "print(f\"Label datatype: {type(label)}\")"
   ]
  },
  {
   "cell_type": "code",
   "execution_count": 12,
   "metadata": {},
   "outputs": [
    {
     "name": "stdout",
     "output_type": "stream",
     "text": [
      "Original shape: torch.Size([3, 224, 224])\n",
      "Permuted shape: torch.Size([224, 224, 3])\n"
     ]
    }
   ],
   "source": [
    "image_permute = img.permute(1,2,0)\n",
    "print(f\"Original shape: {img.shape}\")\n",
    "print(f\"Permuted shape: {image_permute.shape}\")\n"
   ]
  },
  {
   "cell_type": "code",
   "execution_count": 13,
   "metadata": {},
   "outputs": [
    {
     "data": {
      "text/plain": [
       "Text(0.5, 1.0, 'CNV')"
      ]
     },
     "execution_count": 13,
     "metadata": {},
     "output_type": "execute_result"
    },
    {
     "data": {
      "image/png": "[encoded data removed]",
      "text/plain": [
       "<Figure size 400x500 with 1 Axes>"
      ]
     },
     "metadata": {},
     "output_type": "display_data"
    }
   ],
   "source": [
    "import matplotlib.pyplot as plt \n",
    "plt.figure(figsize=(4,5))\n",
    "plt.imshow(img.permute(1,2,0))\n",
    "plt.axis(\"off\")\n",
    "plt.title(class_names[label])"
   ]
  },
  {
   "cell_type": "markdown",
   "metadata": {},
   "source": [
    "Turning dataset into dataloaders\n"
   ]
  },
  {
   "cell_type": "code",
   "execution_count": 14,
   "metadata": {},
   "outputs": [],
   "source": [
    "batch_size = 8\n",
    "num_workers = os.cpu_count()\n",
    "\n",
    "from torch.utils.data import DataLoader\n",
    "train_dataloader = DataLoader(dataset=train_data,\n",
    "                                batch_size=8,\n",
    "                                num_workers=num_workers,\n",
    "                                shuffle=True)\n",
    "\n",
    "test_dataloader = DataLoader(dataset=test_data,\n",
    "                                batch_size=8,\n",
    "                                num_workers=num_workers,\n",
    "                                shuffle=False)"
   ]
  },
  {
   "cell_type": "code",
   "execution_count": 15,
   "metadata": {},
   "outputs": [
    {
     "data": {
      "text/plain": [
       "(<torch.utils.data.dataloader.DataLoader at 0x2320bbef7f0>,\n",
       " <torch.utils.data.dataloader.DataLoader at 0x2320bbee650>)"
      ]
     },
     "execution_count": 15,
     "metadata": {},
     "output_type": "execute_result"
    }
   ],
   "source": [
    "train_dataloader,test_dataloader"
   ]
  },
  {
   "cell_type": "code",
   "execution_count": 16,
   "metadata": {},
   "outputs": [
    {
     "data": {
      "text/plain": [
       "(<torch.utils.data.dataloader.DataLoader at 0x2321422bd30>,\n",
       " <torch.utils.data.dataloader.DataLoader at 0x2321422a2c0>,\n",
       " ['CNV', 'DME', 'DRUSEN', 'NORMAL'])"
      ]
     },
     "execution_count": 16,
     "metadata": {},
     "output_type": "execute_result"
    }
   ],
   "source": [
    "# Create training and testing DataLoaders as well as get a list of class names\n",
    "import src.data_setup as data_setup\n",
    "train_dataloader, test_dataloader, class_names = data_setup.create_dataloaders(train_dir=train_dir,\n",
    "                                                                                test_dir=test_dir,\n",
    "                                                                                transform=data_transform, # resize, convert images to between 0 & 1 and normalize them\n",
    "                                                                                batch_size=32) # set mini-batch size to 32\n",
    "\n",
    "train_dataloader, test_dataloader, class_names"
   ]
  },
  {
   "cell_type": "code",
   "execution_count": 17,
   "metadata": {},
   "outputs": [
    {
     "name": "stdout",
     "output_type": "stream",
     "text": [
      "Image shape: torch.Size([32, 3, 224, 224])\n",
      "Label shape: torch.Size([32])\n"
     ]
    }
   ],
   "source": [
    "img, label = next(iter(train_dataloader))\n",
    "\n",
    "\n",
    "print(f\"Image shape: {img.shape}\")\n",
    "print(f\"Label shape: {label.shape}\")"
   ]
  },
  {
   "cell_type": "code",
   "execution_count": 18,
   "metadata": {},
   "outputs": [
    {
     "data": {
      "text/plain": [
       "(['CNV', 'DME', 'DRUSEN', 'NORMAL'],\n",
       " {'CNV': 0, 'DME': 1, 'DRUSEN': 2, 'NORMAL': 3})"
      ]
     },
     "execution_count": 18,
     "metadata": {},
     "output_type": "execute_result"
    }
   ],
   "source": [
    "train_data.classes , train_data.class_to_idx"
   ]
  },
  {
   "cell_type": "markdown",
   "metadata": {},
   "source": [
    "Data augmentation"
   ]
  },
  {
   "cell_type": "code",
   "execution_count": 19,
   "metadata": {},
   "outputs": [],
   "source": [
    "from torchvision.transforms import Compose, Resize, RandomHorizontalFlip, ToTensor, Normalize\n",
    "from PIL import Image\n",
    "\n",
    "train_data_augmented = transforms.Compose([\n",
    "    transforms.Resize((224,224), interpolation=Image.BILINEAR),\n",
    "    transforms.RandomHorizontalFlip(p=0.5),\n",
    "    transforms.TrivialAugmentWide(num_magnitude_bins=31),\n",
    "    transforms.ToTensor(),\n",
    "    Normalize(mean=[0.485, 0.456, 0.406], std=[0.229, 0.224, 0.225])\n",
    "])\n",
    "\n",
    "test_data_augmented = transforms.Compose([\n",
    "    transforms.Resize((224,224), interpolation=Image.BILINEAR),\n",
    "    transforms.ToTensor(),\n",
    "    Normalize(mean=[0.485, 0.456, 0.406], std=[0.229, 0.224, 0.225])\n",
    "])"
   ]
  },
  {
   "cell_type": "code",
   "execution_count": 20,
   "metadata": {},
   "outputs": [
    {
     "data": {
      "text/plain": [
       "(Compose(\n",
       "     Resize(size=(224, 224), interpolation=bilinear, max_size=None, antialias=True)\n",
       "     RandomHorizontalFlip(p=0.5)\n",
       "     TrivialAugmentWide(num_magnitude_bins=31, interpolation=InterpolationMode.NEAREST, fill=None)\n",
       "     ToTensor()\n",
       "     Normalize(mean=[0.485, 0.456, 0.406], std=[0.229, 0.224, 0.225])\n",
       " ),\n",
       " Compose(\n",
       "     Resize(size=(224, 224), interpolation=bilinear, max_size=None, antialias=True)\n",
       "     ToTensor()\n",
       "     Normalize(mean=[0.485, 0.456, 0.406], std=[0.229, 0.224, 0.225])\n",
       " ))"
      ]
     },
     "execution_count": 20,
     "metadata": {},
     "output_type": "execute_result"
    }
   ],
   "source": [
    "train_data_augmented, test_data_augmented"
   ]
  },
  {
   "cell_type": "code",
   "execution_count": 21,
   "metadata": {},
   "outputs": [],
   "source": [
    "from torchvision.datasets import ImageFolder\n",
    "train_data_augmented = ImageFolder(root='data\\\\retinal_oct\\\\train', transform=train_data_augmented)\n",
    "test_data_augmented = ImageFolder(root='data\\\\retinal_oct\\\\train', transform=test_data_augmented)"
   ]
  },
  {
   "cell_type": "code",
   "execution_count": 22,
   "metadata": {},
   "outputs": [],
   "source": [
    "import os \n",
    "batch_size = 8\n",
    "num_workers = os.cpu_count()\n",
    "torch.manual_seed(42)\n",
    "train_dataloader_augmented = DataLoader(train_data_augmented,\n",
    "                                        batch_size=batch_size,\n",
    "                                        shuffle=True,\n",
    "                                        num_workers=num_workers)\n",
    "\n",
    "test_dataloader_augmented = DataLoader(test_data_augmented,\n",
    "                                    batch_size=batch_size,\n",
    "                                    shuffle=False,\n",
    "                                    num_workers=num_workers)"
   ]
  },
  {
   "cell_type": "code",
   "execution_count": 23,
   "metadata": {},
   "outputs": [
    {
     "data": {
      "image/png": "[encoded data removed]",
      "text/plain": [
       "<Figure size 800x800 with 8 Axes>"
      ]
     },
     "metadata": {},
     "output_type": "display_data"
    }
   ],
   "source": [
    "def show_images(images, labels, class_names):\n",
    "    fig, axes = plt.subplots(figsize=(8, 8), nrows=2, ncols=4)\n",
    "    for i in range(8):\n",
    "        ax = axes[i // 4, i % 4]\n",
    "        img = images[i].permute(1, 2, 0)\n",
    "        ax.imshow(img)\n",
    "        ax.axis('off')\n",
    "        ax.set_title(class_names[labels[i]])\n",
    "    plt.show()\n",
    "\n",
    "# Get a batch of training data\n",
    "images, labels = next(iter(train_dataloader))\n",
    "\n",
    "# Show images\n",
    "show_images(images, labels, class_names)\n"
   ]
  },
  {
   "cell_type": "code",
   "execution_count": 24,
   "metadata": {},
   "outputs": [
    {
     "data": {
      "text/plain": [
       "(torch.Size([3, 224, 224]), tensor(1))"
      ]
     },
     "execution_count": 24,
     "metadata": {},
     "output_type": "execute_result"
    }
   ],
   "source": [
    "image_batch, label_batch = next(iter(train_dataloader))\n",
    "\n",
    "# Get a single image from the batch\n",
    "image, label = image_batch[0], label_batch[0]\n",
    "\n",
    "# View the batch shapes\n",
    "image.shape, label"
   ]
  },
  {
   "cell_type": "markdown",
   "metadata": {},
   "source": [
    "Optic Model architecture"
   ]
  },
  {
   "cell_type": "code",
   "execution_count": 25,
   "metadata": {},
   "outputs": [
    {
     "name": "stdout",
     "output_type": "stream",
     "text": [
      "Using cuda for inference\n"
     ]
    }
   ],
   "source": [
    "import torch\n",
    "from PIL import Image\n",
    "import torchvision.transforms as transforms\n",
    "import numpy as np\n",
    "import json\n",
    "import requests\n",
    "import matplotlib.pyplot as plt\n",
    "import warnings\n",
    "warnings.filterwarnings('ignore')\n",
    "%matplotlib inline\n",
    "\n",
    "device = torch.device(\"cuda\") if torch.cuda.is_available() else torch.device(\"cpu\")\n",
    "print(f'Using {device} for inference')"
   ]
  },
  {
   "cell_type": "code",
   "execution_count": 26,
   "metadata": {},
   "outputs": [
    {
     "data": {
      "text/plain": [
       "ResNet(\n",
       "  (conv1): Conv2d(3, 64, kernel_size=(7, 7), stride=(2, 2), padding=(3, 3), bias=False)\n",
       "  (bn1): BatchNorm2d(64, eps=1e-05, momentum=0.1, affine=True, track_running_stats=True)\n",
       "  (relu): ReLU(inplace=True)\n",
       "  (maxpool): MaxPool2d(kernel_size=3, stride=2, padding=1, dilation=1, ceil_mode=False)\n",
       "  (layer1): Sequential(\n",
       "    (0): Bottleneck(\n",
       "      (conv1): Conv2d(64, 64, kernel_size=(1, 1), stride=(1, 1), bias=False)\n",
       "      (bn1): BatchNorm2d(64, eps=1e-05, momentum=0.1, affine=True, track_running_stats=True)\n",
       "      (conv2): Conv2d(64, 64, kernel_size=(3, 3), stride=(1, 1), padding=(1, 1), bias=False)\n",
       "      (bn2): BatchNorm2d(64, eps=1e-05, momentum=0.1, affine=True, track_running_stats=True)\n",
       "      (conv3): Conv2d(64, 256, kernel_size=(1, 1), stride=(1, 1), bias=False)\n",
       "      (bn3): BatchNorm2d(256, eps=1e-05, momentum=0.1, affine=True, track_running_stats=True)\n",
       "      (relu): ReLU(inplace=True)\n",
       "      (downsample): Sequential(\n",
       "        (0): Conv2d(64, 256, kernel_size=(1, 1), stride=(1, 1), bias=False)\n",
       "        (1): BatchNorm2d(256, eps=1e-05, momentum=0.1, affine=True, track_running_stats=True)\n",
       "      )\n",
       "    )\n",
       "    (1): Bottleneck(\n",
       "      (conv1): Conv2d(256, 64, kernel_size=(1, 1), stride=(1, 1), bias=False)\n",
       "      (bn1): BatchNorm2d(64, eps=1e-05, momentum=0.1, affine=True, track_running_stats=True)\n",
       "      (conv2): Conv2d(64, 64, kernel_size=(3, 3), stride=(1, 1), padding=(1, 1), bias=False)\n",
       "      (bn2): BatchNorm2d(64, eps=1e-05, momentum=0.1, affine=True, track_running_stats=True)\n",
       "      (conv3): Conv2d(64, 256, kernel_size=(1, 1), stride=(1, 1), bias=False)\n",
       "      (bn3): BatchNorm2d(256, eps=1e-05, momentum=0.1, affine=True, track_running_stats=True)\n",
       "      (relu): ReLU(inplace=True)\n",
       "    )\n",
       "    (2): Bottleneck(\n",
       "      (conv1): Conv2d(256, 64, kernel_size=(1, 1), stride=(1, 1), bias=False)\n",
       "      (bn1): BatchNorm2d(64, eps=1e-05, momentum=0.1, affine=True, track_running_stats=True)\n",
       "      (conv2): Conv2d(64, 64, kernel_size=(3, 3), stride=(1, 1), padding=(1, 1), bias=False)\n",
       "      (bn2): BatchNorm2d(64, eps=1e-05, momentum=0.1, affine=True, track_running_stats=True)\n",
       "      (conv3): Conv2d(64, 256, kernel_size=(1, 1), stride=(1, 1), bias=False)\n",
       "      (bn3): BatchNorm2d(256, eps=1e-05, momentum=0.1, affine=True, track_running_stats=True)\n",
       "      (relu): ReLU(inplace=True)\n",
       "    )\n",
       "  )\n",
       "  (layer2): Sequential(\n",
       "    (0): Bottleneck(\n",
       "      (conv1): Conv2d(256, 128, kernel_size=(1, 1), stride=(1, 1), bias=False)\n",
       "      (bn1): BatchNorm2d(128, eps=1e-05, momentum=0.1, affine=True, track_running_stats=True)\n",
       "      (conv2): Conv2d(128, 128, kernel_size=(3, 3), stride=(2, 2), padding=(1, 1), bias=False)\n",
       "      (bn2): BatchNorm2d(128, eps=1e-05, momentum=0.1, affine=True, track_running_stats=True)\n",
       "      (conv3): Conv2d(128, 512, kernel_size=(1, 1), stride=(1, 1), bias=False)\n",
       "      (bn3): BatchNorm2d(512, eps=1e-05, momentum=0.1, affine=True, track_running_stats=True)\n",
       "      (relu): ReLU(inplace=True)\n",
       "      (downsample): Sequential(\n",
       "        (0): Conv2d(256, 512, kernel_size=(1, 1), stride=(2, 2), bias=False)\n",
       "        (1): BatchNorm2d(512, eps=1e-05, momentum=0.1, affine=True, track_running_stats=True)\n",
       "      )\n",
       "    )\n",
       "    (1): Bottleneck(\n",
       "      (conv1): Conv2d(512, 128, kernel_size=(1, 1), stride=(1, 1), bias=False)\n",
       "      (bn1): BatchNorm2d(128, eps=1e-05, momentum=0.1, affine=True, track_running_stats=True)\n",
       "      (conv2): Conv2d(128, 128, kernel_size=(3, 3), stride=(1, 1), padding=(1, 1), bias=False)\n",
       "      (bn2): BatchNorm2d(128, eps=1e-05, momentum=0.1, affine=True, track_running_stats=True)\n",
       "      (conv3): Conv2d(128, 512, kernel_size=(1, 1), stride=(1, 1), bias=False)\n",
       "      (bn3): BatchNorm2d(512, eps=1e-05, momentum=0.1, affine=True, track_running_stats=True)\n",
       "      (relu): ReLU(inplace=True)\n",
       "    )\n",
       "    (2): Bottleneck(\n",
       "      (conv1): Conv2d(512, 128, kernel_size=(1, 1), stride=(1, 1), bias=False)\n",
       "      (bn1): BatchNorm2d(128, eps=1e-05, momentum=0.1, affine=True, track_running_stats=True)\n",
       "      (conv2): Conv2d(128, 128, kernel_size=(3, 3), stride=(1, 1), padding=(1, 1), bias=False)\n",
       "      (bn2): BatchNorm2d(128, eps=1e-05, momentum=0.1, affine=True, track_running_stats=True)\n",
       "      (conv3): Conv2d(128, 512, kernel_size=(1, 1), stride=(1, 1), bias=False)\n",
       "      (bn3): BatchNorm2d(512, eps=1e-05, momentum=0.1, affine=True, track_running_stats=True)\n",
       "      (relu): ReLU(inplace=True)\n",
       "    )\n",
       "    (3): Bottleneck(\n",
       "      (conv1): Conv2d(512, 128, kernel_size=(1, 1), stride=(1, 1), bias=False)\n",
       "      (bn1): BatchNorm2d(128, eps=1e-05, momentum=0.1, affine=True, track_running_stats=True)\n",
       "      (conv2): Conv2d(128, 128, kernel_size=(3, 3), stride=(1, 1), padding=(1, 1), bias=False)\n",
       "      (bn2): BatchNorm2d(128, eps=1e-05, momentum=0.1, affine=True, track_running_stats=True)\n",
       "      (conv3): Conv2d(128, 512, kernel_size=(1, 1), stride=(1, 1), bias=False)\n",
       "      (bn3): BatchNorm2d(512, eps=1e-05, momentum=0.1, affine=True, track_running_stats=True)\n",
       "      (relu): ReLU(inplace=True)\n",
       "    )\n",
       "  )\n",
       "  (layer3): Sequential(\n",
       "    (0): Bottleneck(\n",
       "      (conv1): Conv2d(512, 256, kernel_size=(1, 1), stride=(1, 1), bias=False)\n",
       "      (bn1): BatchNorm2d(256, eps=1e-05, momentum=0.1, affine=True, track_running_stats=True)\n",
       "      (conv2): Conv2d(256, 256, kernel_size=(3, 3), stride=(2, 2), padding=(1, 1), bias=False)\n",
       "      (bn2): BatchNorm2d(256, eps=1e-05, momentum=0.1, affine=True, track_running_stats=True)\n",
       "      (conv3): Conv2d(256, 1024, kernel_size=(1, 1), stride=(1, 1), bias=False)\n",
       "      (bn3): BatchNorm2d(1024, eps=1e-05, momentum=0.1, affine=True, track_running_stats=True)\n",
       "      (relu): ReLU(inplace=True)\n",
       "      (downsample): Sequential(\n",
       "        (0): Conv2d(512, 1024, kernel_size=(1, 1), stride=(2, 2), bias=False)\n",
       "        (1): BatchNorm2d(1024, eps=1e-05, momentum=0.1, affine=True, track_running_stats=True)\n",
       "      )\n",
       "    )\n",
       "    (1): Bottleneck(\n",
       "      (conv1): Conv2d(1024, 256, kernel_size=(1, 1), stride=(1, 1), bias=False)\n",
       "      (bn1): BatchNorm2d(256, eps=1e-05, momentum=0.1, affine=True, track_running_stats=True)\n",
       "      (conv2): Conv2d(256, 256, kernel_size=(3, 3), stride=(1, 1), padding=(1, 1), bias=False)\n",
       "      (bn2): BatchNorm2d(256, eps=1e-05, momentum=0.1, affine=True, track_running_stats=True)\n",
       "      (conv3): Conv2d(256, 1024, kernel_size=(1, 1), stride=(1, 1), bias=False)\n",
       "      (bn3): BatchNorm2d(1024, eps=1e-05, momentum=0.1, affine=True, track_running_stats=True)\n",
       "      (relu): ReLU(inplace=True)\n",
       "    )\n",
       "    (2): Bottleneck(\n",
       "      (conv1): Conv2d(1024, 256, kernel_size=(1, 1), stride=(1, 1), bias=False)\n",
       "      (bn1): BatchNorm2d(256, eps=1e-05, momentum=0.1, affine=True, track_running_stats=True)\n",
       "      (conv2): Conv2d(256, 256, kernel_size=(3, 3), stride=(1, 1), padding=(1, 1), bias=False)\n",
       "      (bn2): BatchNorm2d(256, eps=1e-05, momentum=0.1, affine=True, track_running_stats=True)\n",
       "      (conv3): Conv2d(256, 1024, kernel_size=(1, 1), stride=(1, 1), bias=False)\n",
       "      (bn3): BatchNorm2d(1024, eps=1e-05, momentum=0.1, affine=True, track_running_stats=True)\n",
       "      (relu): ReLU(inplace=True)\n",
       "    )\n",
       "    (3): Bottleneck(\n",
       "      (conv1): Conv2d(1024, 256, kernel_size=(1, 1), stride=(1, 1), bias=False)\n",
       "      (bn1): BatchNorm2d(256, eps=1e-05, momentum=0.1, affine=True, track_running_stats=True)\n",
       "      (conv2): Conv2d(256, 256, kernel_size=(3, 3), stride=(1, 1), padding=(1, 1), bias=False)\n",
       "      (bn2): BatchNorm2d(256, eps=1e-05, momentum=0.1, affine=True, track_running_stats=True)\n",
       "      (conv3): Conv2d(256, 1024, kernel_size=(1, 1), stride=(1, 1), bias=False)\n",
       "      (bn3): BatchNorm2d(1024, eps=1e-05, momentum=0.1, affine=True, track_running_stats=True)\n",
       "      (relu): ReLU(inplace=True)\n",
       "    )\n",
       "    (4): Bottleneck(\n",
       "      (conv1): Conv2d(1024, 256, kernel_size=(1, 1), stride=(1, 1), bias=False)\n",
       "      (bn1): BatchNorm2d(256, eps=1e-05, momentum=0.1, affine=True, track_running_stats=True)\n",
       "      (conv2): Conv2d(256, 256, kernel_size=(3, 3), stride=(1, 1), padding=(1, 1), bias=False)\n",
       "      (bn2): BatchNorm2d(256, eps=1e-05, momentum=0.1, affine=True, track_running_stats=True)\n",
       "      (conv3): Conv2d(256, 1024, kernel_size=(1, 1), stride=(1, 1), bias=False)\n",
       "      (bn3): BatchNorm2d(1024, eps=1e-05, momentum=0.1, affine=True, track_running_stats=True)\n",
       "      (relu): ReLU(inplace=True)\n",
       "    )\n",
       "    (5): Bottleneck(\n",
       "      (conv1): Conv2d(1024, 256, kernel_size=(1, 1), stride=(1, 1), bias=False)\n",
       "      (bn1): BatchNorm2d(256, eps=1e-05, momentum=0.1, affine=True, track_running_stats=True)\n",
       "      (conv2): Conv2d(256, 256, kernel_size=(3, 3), stride=(1, 1), padding=(1, 1), bias=False)\n",
       "      (bn2): BatchNorm2d(256, eps=1e-05, momentum=0.1, affine=True, track_running_stats=True)\n",
       "      (conv3): Conv2d(256, 1024, kernel_size=(1, 1), stride=(1, 1), bias=False)\n",
       "      (bn3): BatchNorm2d(1024, eps=1e-05, momentum=0.1, affine=True, track_running_stats=True)\n",
       "      (relu): ReLU(inplace=True)\n",
       "    )\n",
       "  )\n",
       "  (layer4): Sequential(\n",
       "    (0): Bottleneck(\n",
       "      (conv1): Conv2d(1024, 512, kernel_size=(1, 1), stride=(1, 1), bias=False)\n",
       "      (bn1): BatchNorm2d(512, eps=1e-05, momentum=0.1, affine=True, track_running_stats=True)\n",
       "      (conv2): Conv2d(512, 512, kernel_size=(3, 3), stride=(2, 2), padding=(1, 1), bias=False)\n",
       "      (bn2): BatchNorm2d(512, eps=1e-05, momentum=0.1, affine=True, track_running_stats=True)\n",
       "      (conv3): Conv2d(512, 2048, kernel_size=(1, 1), stride=(1, 1), bias=False)\n",
       "      (bn3): BatchNorm2d(2048, eps=1e-05, momentum=0.1, affine=True, track_running_stats=True)\n",
       "      (relu): ReLU(inplace=True)\n",
       "      (downsample): Sequential(\n",
       "        (0): Conv2d(1024, 2048, kernel_size=(1, 1), stride=(2, 2), bias=False)\n",
       "        (1): BatchNorm2d(2048, eps=1e-05, momentum=0.1, affine=True, track_running_stats=True)\n",
       "      )\n",
       "    )\n",
       "    (1): Bottleneck(\n",
       "      (conv1): Conv2d(2048, 512, kernel_size=(1, 1), stride=(1, 1), bias=False)\n",
       "      (bn1): BatchNorm2d(512, eps=1e-05, momentum=0.1, affine=True, track_running_stats=True)\n",
       "      (conv2): Conv2d(512, 512, kernel_size=(3, 3), stride=(1, 1), padding=(1, 1), bias=False)\n",
       "      (bn2): BatchNorm2d(512, eps=1e-05, momentum=0.1, affine=True, track_running_stats=True)\n",
       "      (conv3): Conv2d(512, 2048, kernel_size=(1, 1), stride=(1, 1), bias=False)\n",
       "      (bn3): BatchNorm2d(2048, eps=1e-05, momentum=0.1, affine=True, track_running_stats=True)\n",
       "      (relu): ReLU(inplace=True)\n",
       "    )\n",
       "    (2): Bottleneck(\n",
       "      (conv1): Conv2d(2048, 512, kernel_size=(1, 1), stride=(1, 1), bias=False)\n",
       "      (bn1): BatchNorm2d(512, eps=1e-05, momentum=0.1, affine=True, track_running_stats=True)\n",
       "      (conv2): Conv2d(512, 512, kernel_size=(3, 3), stride=(1, 1), padding=(1, 1), bias=False)\n",
       "      (bn2): BatchNorm2d(512, eps=1e-05, momentum=0.1, affine=True, track_running_stats=True)\n",
       "      (conv3): Conv2d(512, 2048, kernel_size=(1, 1), stride=(1, 1), bias=False)\n",
       "      (bn3): BatchNorm2d(2048, eps=1e-05, momentum=0.1, affine=True, track_running_stats=True)\n",
       "      (relu): ReLU(inplace=True)\n",
       "    )\n",
       "  )\n",
       "  (avgpool): AdaptiveAvgPool2d(output_size=(1, 1))\n",
       "  (fc): Linear(in_features=2048, out_features=1000, bias=True)\n",
       ")"
      ]
     },
     "execution_count": 26,
     "metadata": {},
     "output_type": "execute_result"
    }
   ],
   "source": [
    "weights = torchvision.models.ResNet50_Weights.DEFAULT\n",
    "model = torchvision.models.resnet50(weights=weights).to(device)\n",
    "model"
   ]
  },
  {
   "cell_type": "code",
   "execution_count": 27,
   "metadata": {},
   "outputs": [
    {
     "data": {
      "text/plain": [
       "========================================================================================================================\n",
       "Layer (type (var_name))                  Input Shape          Output Shape         Param #              Trainable\n",
       "========================================================================================================================\n",
       "ResNet (ResNet)                          [8, 3, 224, 224]     [8, 1000]            --                   True\n",
       "├─Conv2d (conv1)                         [8, 3, 224, 224]     [8, 64, 112, 112]    9,408                True\n",
       "├─BatchNorm2d (bn1)                      [8, 64, 112, 112]    [8, 64, 112, 112]    128                  True\n",
       "├─ReLU (relu)                            [8, 64, 112, 112]    [8, 64, 112, 112]    --                   --\n",
       "├─MaxPool2d (maxpool)                    [8, 64, 112, 112]    [8, 64, 56, 56]      --                   --\n",
       "├─Sequential (layer1)                    [8, 64, 56, 56]      [8, 256, 56, 56]     --                   True\n",
       "│    └─Bottleneck (0)                    [8, 64, 56, 56]      [8, 256, 56, 56]     --                   True\n",
       "│    │    └─Conv2d (conv1)               [8, 64, 56, 56]      [8, 64, 56, 56]      4,096                True\n",
       "│    │    └─BatchNorm2d (bn1)            [8, 64, 56, 56]      [8, 64, 56, 56]      128                  True\n",
       "│    │    └─ReLU (relu)                  [8, 64, 56, 56]      [8, 64, 56, 56]      --                   --\n",
       "│    │    └─Conv2d (conv2)               [8, 64, 56, 56]      [8, 64, 56, 56]      36,864               True\n",
       "│    │    └─BatchNorm2d (bn2)            [8, 64, 56, 56]      [8, 64, 56, 56]      128                  True\n",
       "│    │    └─ReLU (relu)                  [8, 64, 56, 56]      [8, 64, 56, 56]      --                   --\n",
       "│    │    └─Conv2d (conv3)               [8, 64, 56, 56]      [8, 256, 56, 56]     16,384               True\n",
       "│    │    └─BatchNorm2d (bn3)            [8, 256, 56, 56]     [8, 256, 56, 56]     512                  True\n",
       "│    │    └─Sequential (downsample)      [8, 64, 56, 56]      [8, 256, 56, 56]     16,896               True\n",
       "│    │    └─ReLU (relu)                  [8, 256, 56, 56]     [8, 256, 56, 56]     --                   --\n",
       "│    └─Bottleneck (1)                    [8, 256, 56, 56]     [8, 256, 56, 56]     --                   True\n",
       "│    │    └─Conv2d (conv1)               [8, 256, 56, 56]     [8, 64, 56, 56]      16,384               True\n",
       "│    │    └─BatchNorm2d (bn1)            [8, 64, 56, 56]      [8, 64, 56, 56]      128                  True\n",
       "│    │    └─ReLU (relu)                  [8, 64, 56, 56]      [8, 64, 56, 56]      --                   --\n",
       "│    │    └─Conv2d (conv2)               [8, 64, 56, 56]      [8, 64, 56, 56]      36,864               True\n",
       "│    │    └─BatchNorm2d (bn2)            [8, 64, 56, 56]      [8, 64, 56, 56]      128                  True\n",
       "│    │    └─ReLU (relu)                  [8, 64, 56, 56]      [8, 64, 56, 56]      --                   --\n",
       "│    │    └─Conv2d (conv3)               [8, 64, 56, 56]      [8, 256, 56, 56]     16,384               True\n",
       "│    │    └─BatchNorm2d (bn3)            [8, 256, 56, 56]     [8, 256, 56, 56]     512                  True\n",
       "│    │    └─ReLU (relu)                  [8, 256, 56, 56]     [8, 256, 56, 56]     --                   --\n",
       "│    └─Bottleneck (2)                    [8, 256, 56, 56]     [8, 256, 56, 56]     --                   True\n",
       "│    │    └─Conv2d (conv1)               [8, 256, 56, 56]     [8, 64, 56, 56]      16,384               True\n",
       "│    │    └─BatchNorm2d (bn1)            [8, 64, 56, 56]      [8, 64, 56, 56]      128                  True\n",
       "│    │    └─ReLU (relu)                  [8, 64, 56, 56]      [8, 64, 56, 56]      --                   --\n",
       "│    │    └─Conv2d (conv2)               [8, 64, 56, 56]      [8, 64, 56, 56]      36,864               True\n",
       "│    │    └─BatchNorm2d (bn2)            [8, 64, 56, 56]      [8, 64, 56, 56]      128                  True\n",
       "│    │    └─ReLU (relu)                  [8, 64, 56, 56]      [8, 64, 56, 56]      --                   --\n",
       "│    │    └─Conv2d (conv3)               [8, 64, 56, 56]      [8, 256, 56, 56]     16,384               True\n",
       "│    │    └─BatchNorm2d (bn3)            [8, 256, 56, 56]     [8, 256, 56, 56]     512                  True\n",
       "│    │    └─ReLU (relu)                  [8, 256, 56, 56]     [8, 256, 56, 56]     --                   --\n",
       "├─Sequential (layer2)                    [8, 256, 56, 56]     [8, 512, 28, 28]     --                   True\n",
       "│    └─Bottleneck (0)                    [8, 256, 56, 56]     [8, 512, 28, 28]     --                   True\n",
       "│    │    └─Conv2d (conv1)               [8, 256, 56, 56]     [8, 128, 56, 56]     32,768               True\n",
       "│    │    └─BatchNorm2d (bn1)            [8, 128, 56, 56]     [8, 128, 56, 56]     256                  True\n",
       "│    │    └─ReLU (relu)                  [8, 128, 56, 56]     [8, 128, 56, 56]     --                   --\n",
       "│    │    └─Conv2d (conv2)               [8, 128, 56, 56]     [8, 128, 28, 28]     147,456              True\n",
       "│    │    └─BatchNorm2d (bn2)            [8, 128, 28, 28]     [8, 128, 28, 28]     256                  True\n",
       "│    │    └─ReLU (relu)                  [8, 128, 28, 28]     [8, 128, 28, 28]     --                   --\n",
       "│    │    └─Conv2d (conv3)               [8, 128, 28, 28]     [8, 512, 28, 28]     65,536               True\n",
       "│    │    └─BatchNorm2d (bn3)            [8, 512, 28, 28]     [8, 512, 28, 28]     1,024                True\n",
       "│    │    └─Sequential (downsample)      [8, 256, 56, 56]     [8, 512, 28, 28]     132,096              True\n",
       "│    │    └─ReLU (relu)                  [8, 512, 28, 28]     [8, 512, 28, 28]     --                   --\n",
       "│    └─Bottleneck (1)                    [8, 512, 28, 28]     [8, 512, 28, 28]     --                   True\n",
       "│    │    └─Conv2d (conv1)               [8, 512, 28, 28]     [8, 128, 28, 28]     65,536               True\n",
       "│    │    └─BatchNorm2d (bn1)            [8, 128, 28, 28]     [8, 128, 28, 28]     256                  True\n",
       "│    │    └─ReLU (relu)                  [8, 128, 28, 28]     [8, 128, 28, 28]     --                   --\n",
       "│    │    └─Conv2d (conv2)               [8, 128, 28, 28]     [8, 128, 28, 28]     147,456              True\n",
       "│    │    └─BatchNorm2d (bn2)            [8, 128, 28, 28]     [8, 128, 28, 28]     256                  True\n",
       "│    │    └─ReLU (relu)                  [8, 128, 28, 28]     [8, 128, 28, 28]     --                   --\n",
       "│    │    └─Conv2d (conv3)               [8, 128, 28, 28]     [8, 512, 28, 28]     65,536               True\n",
       "│    │    └─BatchNorm2d (bn3)            [8, 512, 28, 28]     [8, 512, 28, 28]     1,024                True\n",
       "│    │    └─ReLU (relu)                  [8, 512, 28, 28]     [8, 512, 28, 28]     --                   --\n",
       "│    └─Bottleneck (2)                    [8, 512, 28, 28]     [8, 512, 28, 28]     --                   True\n",
       "│    │    └─Conv2d (conv1)               [8, 512, 28, 28]     [8, 128, 28, 28]     65,536               True\n",
       "│    │    └─BatchNorm2d (bn1)            [8, 128, 28, 28]     [8, 128, 28, 28]     256                  True\n",
       "│    │    └─ReLU (relu)                  [8, 128, 28, 28]     [8, 128, 28, 28]     --                   --\n",
       "│    │    └─Conv2d (conv2)               [8, 128, 28, 28]     [8, 128, 28, 28]     147,456              True\n",
       "│    │    └─BatchNorm2d (bn2)            [8, 128, 28, 28]     [8, 128, 28, 28]     256                  True\n",
       "│    │    └─ReLU (relu)                  [8, 128, 28, 28]     [8, 128, 28, 28]     --                   --\n",
       "│    │    └─Conv2d (conv3)               [8, 128, 28, 28]     [8, 512, 28, 28]     65,536               True\n",
       "│    │    └─BatchNorm2d (bn3)            [8, 512, 28, 28]     [8, 512, 28, 28]     1,024                True\n",
       "│    │    └─ReLU (relu)                  [8, 512, 28, 28]     [8, 512, 28, 28]     --                   --\n",
       "│    └─Bottleneck (3)                    [8, 512, 28, 28]     [8, 512, 28, 28]     --                   True\n",
       "│    │    └─Conv2d (conv1)               [8, 512, 28, 28]     [8, 128, 28, 28]     65,536               True\n",
       "│    │    └─BatchNorm2d (bn1)            [8, 128, 28, 28]     [8, 128, 28, 28]     256                  True\n",
       "│    │    └─ReLU (relu)                  [8, 128, 28, 28]     [8, 128, 28, 28]     --                   --\n",
       "│    │    └─Conv2d (conv2)               [8, 128, 28, 28]     [8, 128, 28, 28]     147,456              True\n",
       "│    │    └─BatchNorm2d (bn2)            [8, 128, 28, 28]     [8, 128, 28, 28]     256                  True\n",
       "│    │    └─ReLU (relu)                  [8, 128, 28, 28]     [8, 128, 28, 28]     --                   --\n",
       "│    │    └─Conv2d (conv3)               [8, 128, 28, 28]     [8, 512, 28, 28]     65,536               True\n",
       "│    │    └─BatchNorm2d (bn3)            [8, 512, 28, 28]     [8, 512, 28, 28]     1,024                True\n",
       "│    │    └─ReLU (relu)                  [8, 512, 28, 28]     [8, 512, 28, 28]     --                   --\n",
       "├─Sequential (layer3)                    [8, 512, 28, 28]     [8, 1024, 14, 14]    --                   True\n",
       "│    └─Bottleneck (0)                    [8, 512, 28, 28]     [8, 1024, 14, 14]    --                   True\n",
       "│    │    └─Conv2d (conv1)               [8, 512, 28, 28]     [8, 256, 28, 28]     131,072              True\n",
       "│    │    └─BatchNorm2d (bn1)            [8, 256, 28, 28]     [8, 256, 28, 28]     512                  True\n",
       "│    │    └─ReLU (relu)                  [8, 256, 28, 28]     [8, 256, 28, 28]     --                   --\n",
       "│    │    └─Conv2d (conv2)               [8, 256, 28, 28]     [8, 256, 14, 14]     589,824              True\n",
       "│    │    └─BatchNorm2d (bn2)            [8, 256, 14, 14]     [8, 256, 14, 14]     512                  True\n",
       "│    │    └─ReLU (relu)                  [8, 256, 14, 14]     [8, 256, 14, 14]     --                   --\n",
       "│    │    └─Conv2d (conv3)               [8, 256, 14, 14]     [8, 1024, 14, 14]    262,144              True\n",
       "│    │    └─BatchNorm2d (bn3)            [8, 1024, 14, 14]    [8, 1024, 14, 14]    2,048                True\n",
       "│    │    └─Sequential (downsample)      [8, 512, 28, 28]     [8, 1024, 14, 14]    526,336              True\n",
       "│    │    └─ReLU (relu)                  [8, 1024, 14, 14]    [8, 1024, 14, 14]    --                   --\n",
       "│    └─Bottleneck (1)                    [8, 1024, 14, 14]    [8, 1024, 14, 14]    --                   True\n",
       "│    │    └─Conv2d (conv1)               [8, 1024, 14, 14]    [8, 256, 14, 14]     262,144              True\n",
       "│    │    └─BatchNorm2d (bn1)            [8, 256, 14, 14]     [8, 256, 14, 14]     512                  True\n",
       "│    │    └─ReLU (relu)                  [8, 256, 14, 14]     [8, 256, 14, 14]     --                   --\n",
       "│    │    └─Conv2d (conv2)               [8, 256, 14, 14]     [8, 256, 14, 14]     589,824              True\n",
       "│    │    └─BatchNorm2d (bn2)            [8, 256, 14, 14]     [8, 256, 14, 14]     512                  True\n",
       "│    │    └─ReLU (relu)                  [8, 256, 14, 14]     [8, 256, 14, 14]     --                   --\n",
       "│    │    └─Conv2d (conv3)               [8, 256, 14, 14]     [8, 1024, 14, 14]    262,144              True\n",
       "│    │    └─BatchNorm2d (bn3)            [8, 1024, 14, 14]    [8, 1024, 14, 14]    2,048                True\n",
       "│    │    └─ReLU (relu)                  [8, 1024, 14, 14]    [8, 1024, 14, 14]    --                   --\n",
       "│    └─Bottleneck (2)                    [8, 1024, 14, 14]    [8, 1024, 14, 14]    --                   True\n",
       "│    │    └─Conv2d (conv1)               [8, 1024, 14, 14]    [8, 256, 14, 14]     262,144              True\n",
       "│    │    └─BatchNorm2d (bn1)            [8, 256, 14, 14]     [8, 256, 14, 14]     512                  True\n",
       "│    │    └─ReLU (relu)                  [8, 256, 14, 14]     [8, 256, 14, 14]     --                   --\n",
       "│    │    └─Conv2d (conv2)               [8, 256, 14, 14]     [8, 256, 14, 14]     589,824              True\n",
       "│    │    └─BatchNorm2d (bn2)            [8, 256, 14, 14]     [8, 256, 14, 14]     512                  True\n",
       "│    │    └─ReLU (relu)                  [8, 256, 14, 14]     [8, 256, 14, 14]     --                   --\n",
       "│    │    └─Conv2d (conv3)               [8, 256, 14, 14]     [8, 1024, 14, 14]    262,144              True\n",
       "│    │    └─BatchNorm2d (bn3)            [8, 1024, 14, 14]    [8, 1024, 14, 14]    2,048                True\n",
       "│    │    └─ReLU (relu)                  [8, 1024, 14, 14]    [8, 1024, 14, 14]    --                   --\n",
       "│    └─Bottleneck (3)                    [8, 1024, 14, 14]    [8, 1024, 14, 14]    --                   True\n",
       "│    │    └─Conv2d (conv1)               [8, 1024, 14, 14]    [8, 256, 14, 14]     262,144              True\n",
       "│    │    └─BatchNorm2d (bn1)            [8, 256, 14, 14]     [8, 256, 14, 14]     512                  True\n",
       "│    │    └─ReLU (relu)                  [8, 256, 14, 14]     [8, 256, 14, 14]     --                   --\n",
       "│    │    └─Conv2d (conv2)               [8, 256, 14, 14]     [8, 256, 14, 14]     589,824              True\n",
       "│    │    └─BatchNorm2d (bn2)            [8, 256, 14, 14]     [8, 256, 14, 14]     512                  True\n",
       "│    │    └─ReLU (relu)                  [8, 256, 14, 14]     [8, 256, 14, 14]     --                   --\n",
       "│    │    └─Conv2d (conv3)               [8, 256, 14, 14]     [8, 1024, 14, 14]    262,144              True\n",
       "│    │    └─BatchNorm2d (bn3)            [8, 1024, 14, 14]    [8, 1024, 14, 14]    2,048                True\n",
       "│    │    └─ReLU (relu)                  [8, 1024, 14, 14]    [8, 1024, 14, 14]    --                   --\n",
       "│    └─Bottleneck (4)                    [8, 1024, 14, 14]    [8, 1024, 14, 14]    --                   True\n",
       "│    │    └─Conv2d (conv1)               [8, 1024, 14, 14]    [8, 256, 14, 14]     262,144              True\n",
       "│    │    └─BatchNorm2d (bn1)            [8, 256, 14, 14]     [8, 256, 14, 14]     512                  True\n",
       "│    │    └─ReLU (relu)                  [8, 256, 14, 14]     [8, 256, 14, 14]     --                   --\n",
       "│    │    └─Conv2d (conv2)               [8, 256, 14, 14]     [8, 256, 14, 14]     589,824              True\n",
       "│    │    └─BatchNorm2d (bn2)            [8, 256, 14, 14]     [8, 256, 14, 14]     512                  True\n",
       "│    │    └─ReLU (relu)                  [8, 256, 14, 14]     [8, 256, 14, 14]     --                   --\n",
       "│    │    └─Conv2d (conv3)               [8, 256, 14, 14]     [8, 1024, 14, 14]    262,144              True\n",
       "│    │    └─BatchNorm2d (bn3)            [8, 1024, 14, 14]    [8, 1024, 14, 14]    2,048                True\n",
       "│    │    └─ReLU (relu)                  [8, 1024, 14, 14]    [8, 1024, 14, 14]    --                   --\n",
       "│    └─Bottleneck (5)                    [8, 1024, 14, 14]    [8, 1024, 14, 14]    --                   True\n",
       "│    │    └─Conv2d (conv1)               [8, 1024, 14, 14]    [8, 256, 14, 14]     262,144              True\n",
       "│    │    └─BatchNorm2d (bn1)            [8, 256, 14, 14]     [8, 256, 14, 14]     512                  True\n",
       "│    │    └─ReLU (relu)                  [8, 256, 14, 14]     [8, 256, 14, 14]     --                   --\n",
       "│    │    └─Conv2d (conv2)               [8, 256, 14, 14]     [8, 256, 14, 14]     589,824              True\n",
       "│    │    └─BatchNorm2d (bn2)            [8, 256, 14, 14]     [8, 256, 14, 14]     512                  True\n",
       "│    │    └─ReLU (relu)                  [8, 256, 14, 14]     [8, 256, 14, 14]     --                   --\n",
       "│    │    └─Conv2d (conv3)               [8, 256, 14, 14]     [8, 1024, 14, 14]    262,144              True\n",
       "│    │    └─BatchNorm2d (bn3)            [8, 1024, 14, 14]    [8, 1024, 14, 14]    2,048                True\n",
       "│    │    └─ReLU (relu)                  [8, 1024, 14, 14]    [8, 1024, 14, 14]    --                   --\n",
       "├─Sequential (layer4)                    [8, 1024, 14, 14]    [8, 2048, 7, 7]      --                   True\n",
       "│    └─Bottleneck (0)                    [8, 1024, 14, 14]    [8, 2048, 7, 7]      --                   True\n",
       "│    │    └─Conv2d (conv1)               [8, 1024, 14, 14]    [8, 512, 14, 14]     524,288              True\n",
       "│    │    └─BatchNorm2d (bn1)            [8, 512, 14, 14]     [8, 512, 14, 14]     1,024                True\n",
       "│    │    └─ReLU (relu)                  [8, 512, 14, 14]     [8, 512, 14, 14]     --                   --\n",
       "│    │    └─Conv2d (conv2)               [8, 512, 14, 14]     [8, 512, 7, 7]       2,359,296            True\n",
       "│    │    └─BatchNorm2d (bn2)            [8, 512, 7, 7]       [8, 512, 7, 7]       1,024                True\n",
       "│    │    └─ReLU (relu)                  [8, 512, 7, 7]       [8, 512, 7, 7]       --                   --\n",
       "│    │    └─Conv2d (conv3)               [8, 512, 7, 7]       [8, 2048, 7, 7]      1,048,576            True\n",
       "│    │    └─BatchNorm2d (bn3)            [8, 2048, 7, 7]      [8, 2048, 7, 7]      4,096                True\n",
       "│    │    └─Sequential (downsample)      [8, 1024, 14, 14]    [8, 2048, 7, 7]      2,101,248            True\n",
       "│    │    └─ReLU (relu)                  [8, 2048, 7, 7]      [8, 2048, 7, 7]      --                   --\n",
       "│    └─Bottleneck (1)                    [8, 2048, 7, 7]      [8, 2048, 7, 7]      --                   True\n",
       "│    │    └─Conv2d (conv1)               [8, 2048, 7, 7]      [8, 512, 7, 7]       1,048,576            True\n",
       "│    │    └─BatchNorm2d (bn1)            [8, 512, 7, 7]       [8, 512, 7, 7]       1,024                True\n",
       "│    │    └─ReLU (relu)                  [8, 512, 7, 7]       [8, 512, 7, 7]       --                   --\n",
       "│    │    └─Conv2d (conv2)               [8, 512, 7, 7]       [8, 512, 7, 7]       2,359,296            True\n",
       "│    │    └─BatchNorm2d (bn2)            [8, 512, 7, 7]       [8, 512, 7, 7]       1,024                True\n",
       "│    │    └─ReLU (relu)                  [8, 512, 7, 7]       [8, 512, 7, 7]       --                   --\n",
       "│    │    └─Conv2d (conv3)               [8, 512, 7, 7]       [8, 2048, 7, 7]      1,048,576            True\n",
       "│    │    └─BatchNorm2d (bn3)            [8, 2048, 7, 7]      [8, 2048, 7, 7]      4,096                True\n",
       "│    │    └─ReLU (relu)                  [8, 2048, 7, 7]      [8, 2048, 7, 7]      --                   --\n",
       "│    └─Bottleneck (2)                    [8, 2048, 7, 7]      [8, 2048, 7, 7]      --                   True\n",
       "│    │    └─Conv2d (conv1)               [8, 2048, 7, 7]      [8, 512, 7, 7]       1,048,576            True\n",
       "│    │    └─BatchNorm2d (bn1)            [8, 512, 7, 7]       [8, 512, 7, 7]       1,024                True\n",
       "│    │    └─ReLU (relu)                  [8, 512, 7, 7]       [8, 512, 7, 7]       --                   --\n",
       "│    │    └─Conv2d (conv2)               [8, 512, 7, 7]       [8, 512, 7, 7]       2,359,296            True\n",
       "│    │    └─BatchNorm2d (bn2)            [8, 512, 7, 7]       [8, 512, 7, 7]       1,024                True\n",
       "│    │    └─ReLU (relu)                  [8, 512, 7, 7]       [8, 512, 7, 7]       --                   --\n",
       "│    │    └─Conv2d (conv3)               [8, 512, 7, 7]       [8, 2048, 7, 7]      1,048,576            True\n",
       "│    │    └─BatchNorm2d (bn3)            [8, 2048, 7, 7]      [8, 2048, 7, 7]      4,096                True\n",
       "│    │    └─ReLU (relu)                  [8, 2048, 7, 7]      [8, 2048, 7, 7]      --                   --\n",
       "├─AdaptiveAvgPool2d (avgpool)            [8, 2048, 7, 7]      [8, 2048, 1, 1]      --                   --\n",
       "├─Linear (fc)                            [8, 2048]            [8, 1000]            2,049,000            True\n",
       "========================================================================================================================\n",
       "Total params: 25,557,032\n",
       "Trainable params: 25,557,032\n",
       "Non-trainable params: 0\n",
       "Total mult-adds (G): 32.71\n",
       "========================================================================================================================\n",
       "Input size (MB): 4.82\n",
       "Forward/backward pass size (MB): 1422.65\n",
       "Params size (MB): 102.23\n",
       "Estimated Total Size (MB): 1529.70\n",
       "========================================================================================================================"
      ]
     },
     "execution_count": 27,
     "metadata": {},
     "output_type": "execute_result"
    }
   ],
   "source": [
    "from torchinfo import summary\n",
    "\n",
    "summary(model=model, \n",
    "        input_size=(8, 3, 224, 224),\n",
    "        col_names=[\"input_size\", \"output_size\", \"num_params\", \"trainable\"],\n",
    "        col_width=20,\n",
    "        row_settings=[\"var_names\"]\n",
    ") "
   ]
  },
  {
   "cell_type": "code",
   "execution_count": 28,
   "metadata": {},
   "outputs": [],
   "source": [
    "#Freeze all layers\n",
    "for param in model.parameters():\n",
    "    param.requires_grad = False"
   ]
  },
  {
   "cell_type": "code",
   "execution_count": 29,
   "metadata": {},
   "outputs": [],
   "source": [
    "# Unfreeze last layer\n",
    "for param in model.fc.parameters():\n",
    "    param.requires_grad = True"
   ]
  },
  {
   "cell_type": "code",
   "execution_count": 30,
   "metadata": {},
   "outputs": [
    {
     "data": {
      "text/plain": [
       "========================================================================================================================\n",
       "Layer (type (var_name))                  Input Shape          Output Shape         Param #              Trainable\n",
       "========================================================================================================================\n",
       "ResNet (ResNet)                          [8, 3, 224, 224]     [8, 1000]            --                   Partial\n",
       "├─Conv2d (conv1)                         [8, 3, 224, 224]     [8, 64, 112, 112]    (9,408)              False\n",
       "├─BatchNorm2d (bn1)                      [8, 64, 112, 112]    [8, 64, 112, 112]    (128)                False\n",
       "├─ReLU (relu)                            [8, 64, 112, 112]    [8, 64, 112, 112]    --                   --\n",
       "├─MaxPool2d (maxpool)                    [8, 64, 112, 112]    [8, 64, 56, 56]      --                   --\n",
       "├─Sequential (layer1)                    [8, 64, 56, 56]      [8, 256, 56, 56]     --                   False\n",
       "│    └─Bottleneck (0)                    [8, 64, 56, 56]      [8, 256, 56, 56]     --                   False\n",
       "│    │    └─Conv2d (conv1)               [8, 64, 56, 56]      [8, 64, 56, 56]      (4,096)              False\n",
       "│    │    └─BatchNorm2d (bn1)            [8, 64, 56, 56]      [8, 64, 56, 56]      (128)                False\n",
       "│    │    └─ReLU (relu)                  [8, 64, 56, 56]      [8, 64, 56, 56]      --                   --\n",
       "│    │    └─Conv2d (conv2)               [8, 64, 56, 56]      [8, 64, 56, 56]      (36,864)             False\n",
       "│    │    └─BatchNorm2d (bn2)            [8, 64, 56, 56]      [8, 64, 56, 56]      (128)                False\n",
       "│    │    └─ReLU (relu)                  [8, 64, 56, 56]      [8, 64, 56, 56]      --                   --\n",
       "│    │    └─Conv2d (conv3)               [8, 64, 56, 56]      [8, 256, 56, 56]     (16,384)             False\n",
       "│    │    └─BatchNorm2d (bn3)            [8, 256, 56, 56]     [8, 256, 56, 56]     (512)                False\n",
       "│    │    └─Sequential (downsample)      [8, 64, 56, 56]      [8, 256, 56, 56]     (16,896)             False\n",
       "│    │    └─ReLU (relu)                  [8, 256, 56, 56]     [8, 256, 56, 56]     --                   --\n",
       "│    └─Bottleneck (1)                    [8, 256, 56, 56]     [8, 256, 56, 56]     --                   False\n",
       "│    │    └─Conv2d (conv1)               [8, 256, 56, 56]     [8, 64, 56, 56]      (16,384)             False\n",
       "│    │    └─BatchNorm2d (bn1)            [8, 64, 56, 56]      [8, 64, 56, 56]      (128)                False\n",
       "│    │    └─ReLU (relu)                  [8, 64, 56, 56]      [8, 64, 56, 56]      --                   --\n",
       "│    │    └─Conv2d (conv2)               [8, 64, 56, 56]      [8, 64, 56, 56]      (36,864)             False\n",
       "│    │    └─BatchNorm2d (bn2)            [8, 64, 56, 56]      [8, 64, 56, 56]      (128)                False\n",
       "│    │    └─ReLU (relu)                  [8, 64, 56, 56]      [8, 64, 56, 56]      --                   --\n",
       "│    │    └─Conv2d (conv3)               [8, 64, 56, 56]      [8, 256, 56, 56]     (16,384)             False\n",
       "│    │    └─BatchNorm2d (bn3)            [8, 256, 56, 56]     [8, 256, 56, 56]     (512)                False\n",
       "│    │    └─ReLU (relu)                  [8, 256, 56, 56]     [8, 256, 56, 56]     --                   --\n",
       "│    └─Bottleneck (2)                    [8, 256, 56, 56]     [8, 256, 56, 56]     --                   False\n",
       "│    │    └─Conv2d (conv1)               [8, 256, 56, 56]     [8, 64, 56, 56]      (16,384)             False\n",
       "│    │    └─BatchNorm2d (bn1)            [8, 64, 56, 56]      [8, 64, 56, 56]      (128)                False\n",
       "│    │    └─ReLU (relu)                  [8, 64, 56, 56]      [8, 64, 56, 56]      --                   --\n",
       "│    │    └─Conv2d (conv2)               [8, 64, 56, 56]      [8, 64, 56, 56]      (36,864)             False\n",
       "│    │    └─BatchNorm2d (bn2)            [8, 64, 56, 56]      [8, 64, 56, 56]      (128)                False\n",
       "│    │    └─ReLU (relu)                  [8, 64, 56, 56]      [8, 64, 56, 56]      --                   --\n",
       "│    │    └─Conv2d (conv3)               [8, 64, 56, 56]      [8, 256, 56, 56]     (16,384)             False\n",
       "│    │    └─BatchNorm2d (bn3)            [8, 256, 56, 56]     [8, 256, 56, 56]     (512)                False\n",
       "│    │    └─ReLU (relu)                  [8, 256, 56, 56]     [8, 256, 56, 56]     --                   --\n",
       "├─Sequential (layer2)                    [8, 256, 56, 56]     [8, 512, 28, 28]     --                   False\n",
       "│    └─Bottleneck (0)                    [8, 256, 56, 56]     [8, 512, 28, 28]     --                   False\n",
       "│    │    └─Conv2d (conv1)               [8, 256, 56, 56]     [8, 128, 56, 56]     (32,768)             False\n",
       "│    │    └─BatchNorm2d (bn1)            [8, 128, 56, 56]     [8, 128, 56, 56]     (256)                False\n",
       "│    │    └─ReLU (relu)                  [8, 128, 56, 56]     [8, 128, 56, 56]     --                   --\n",
       "│    │    └─Conv2d (conv2)               [8, 128, 56, 56]     [8, 128, 28, 28]     (147,456)            False\n",
       "│    │    └─BatchNorm2d (bn2)            [8, 128, 28, 28]     [8, 128, 28, 28]     (256)                False\n",
       "│    │    └─ReLU (relu)                  [8, 128, 28, 28]     [8, 128, 28, 28]     --                   --\n",
       "│    │    └─Conv2d (conv3)               [8, 128, 28, 28]     [8, 512, 28, 28]     (65,536)             False\n",
       "│    │    └─BatchNorm2d (bn3)            [8, 512, 28, 28]     [8, 512, 28, 28]     (1,024)              False\n",
       "│    │    └─Sequential (downsample)      [8, 256, 56, 56]     [8, 512, 28, 28]     (132,096)            False\n",
       "│    │    └─ReLU (relu)                  [8, 512, 28, 28]     [8, 512, 28, 28]     --                   --\n",
       "│    └─Bottleneck (1)                    [8, 512, 28, 28]     [8, 512, 28, 28]     --                   False\n",
       "│    │    └─Conv2d (conv1)               [8, 512, 28, 28]     [8, 128, 28, 28]     (65,536)             False\n",
       "│    │    └─BatchNorm2d (bn1)            [8, 128, 28, 28]     [8, 128, 28, 28]     (256)                False\n",
       "│    │    └─ReLU (relu)                  [8, 128, 28, 28]     [8, 128, 28, 28]     --                   --\n",
       "│    │    └─Conv2d (conv2)               [8, 128, 28, 28]     [8, 128, 28, 28]     (147,456)            False\n",
       "│    │    └─BatchNorm2d (bn2)            [8, 128, 28, 28]     [8, 128, 28, 28]     (256)                False\n",
       "│    │    └─ReLU (relu)                  [8, 128, 28, 28]     [8, 128, 28, 28]     --                   --\n",
       "│    │    └─Conv2d (conv3)               [8, 128, 28, 28]     [8, 512, 28, 28]     (65,536)             False\n",
       "│    │    └─BatchNorm2d (bn3)            [8, 512, 28, 28]     [8, 512, 28, 28]     (1,024)              False\n",
       "│    │    └─ReLU (relu)                  [8, 512, 28, 28]     [8, 512, 28, 28]     --                   --\n",
       "│    └─Bottleneck (2)                    [8, 512, 28, 28]     [8, 512, 28, 28]     --                   False\n",
       "│    │    └─Conv2d (conv1)               [8, 512, 28, 28]     [8, 128, 28, 28]     (65,536)             False\n",
       "│    │    └─BatchNorm2d (bn1)            [8, 128, 28, 28]     [8, 128, 28, 28]     (256)                False\n",
       "│    │    └─ReLU (relu)                  [8, 128, 28, 28]     [8, 128, 28, 28]     --                   --\n",
       "│    │    └─Conv2d (conv2)               [8, 128, 28, 28]     [8, 128, 28, 28]     (147,456)            False\n",
       "│    │    └─BatchNorm2d (bn2)            [8, 128, 28, 28]     [8, 128, 28, 28]     (256)                False\n",
       "│    │    └─ReLU (relu)                  [8, 128, 28, 28]     [8, 128, 28, 28]     --                   --\n",
       "│    │    └─Conv2d (conv3)               [8, 128, 28, 28]     [8, 512, 28, 28]     (65,536)             False\n",
       "│    │    └─BatchNorm2d (bn3)            [8, 512, 28, 28]     [8, 512, 28, 28]     (1,024)              False\n",
       "│    │    └─ReLU (relu)                  [8, 512, 28, 28]     [8, 512, 28, 28]     --                   --\n",
       "│    └─Bottleneck (3)                    [8, 512, 28, 28]     [8, 512, 28, 28]     --                   False\n",
       "│    │    └─Conv2d (conv1)               [8, 512, 28, 28]     [8, 128, 28, 28]     (65,536)             False\n",
       "│    │    └─BatchNorm2d (bn1)            [8, 128, 28, 28]     [8, 128, 28, 28]     (256)                False\n",
       "│    │    └─ReLU (relu)                  [8, 128, 28, 28]     [8, 128, 28, 28]     --                   --\n",
       "│    │    └─Conv2d (conv2)               [8, 128, 28, 28]     [8, 128, 28, 28]     (147,456)            False\n",
       "│    │    └─BatchNorm2d (bn2)            [8, 128, 28, 28]     [8, 128, 28, 28]     (256)                False\n",
       "│    │    └─ReLU (relu)                  [8, 128, 28, 28]     [8, 128, 28, 28]     --                   --\n",
       "│    │    └─Conv2d (conv3)               [8, 128, 28, 28]     [8, 512, 28, 28]     (65,536)             False\n",
       "│    │    └─BatchNorm2d (bn3)            [8, 512, 28, 28]     [8, 512, 28, 28]     (1,024)              False\n",
       "│    │    └─ReLU (relu)                  [8, 512, 28, 28]     [8, 512, 28, 28]     --                   --\n",
       "├─Sequential (layer3)                    [8, 512, 28, 28]     [8, 1024, 14, 14]    --                   False\n",
       "│    └─Bottleneck (0)                    [8, 512, 28, 28]     [8, 1024, 14, 14]    --                   False\n",
       "│    │    └─Conv2d (conv1)               [8, 512, 28, 28]     [8, 256, 28, 28]     (131,072)            False\n",
       "│    │    └─BatchNorm2d (bn1)            [8, 256, 28, 28]     [8, 256, 28, 28]     (512)                False\n",
       "│    │    └─ReLU (relu)                  [8, 256, 28, 28]     [8, 256, 28, 28]     --                   --\n",
       "│    │    └─Conv2d (conv2)               [8, 256, 28, 28]     [8, 256, 14, 14]     (589,824)            False\n",
       "│    │    └─BatchNorm2d (bn2)            [8, 256, 14, 14]     [8, 256, 14, 14]     (512)                False\n",
       "│    │    └─ReLU (relu)                  [8, 256, 14, 14]     [8, 256, 14, 14]     --                   --\n",
       "│    │    └─Conv2d (conv3)               [8, 256, 14, 14]     [8, 1024, 14, 14]    (262,144)            False\n",
       "│    │    └─BatchNorm2d (bn3)            [8, 1024, 14, 14]    [8, 1024, 14, 14]    (2,048)              False\n",
       "│    │    └─Sequential (downsample)      [8, 512, 28, 28]     [8, 1024, 14, 14]    (526,336)            False\n",
       "│    │    └─ReLU (relu)                  [8, 1024, 14, 14]    [8, 1024, 14, 14]    --                   --\n",
       "│    └─Bottleneck (1)                    [8, 1024, 14, 14]    [8, 1024, 14, 14]    --                   False\n",
       "│    │    └─Conv2d (conv1)               [8, 1024, 14, 14]    [8, 256, 14, 14]     (262,144)            False\n",
       "│    │    └─BatchNorm2d (bn1)            [8, 256, 14, 14]     [8, 256, 14, 14]     (512)                False\n",
       "│    │    └─ReLU (relu)                  [8, 256, 14, 14]     [8, 256, 14, 14]     --                   --\n",
       "│    │    └─Conv2d (conv2)               [8, 256, 14, 14]     [8, 256, 14, 14]     (589,824)            False\n",
       "│    │    └─BatchNorm2d (bn2)            [8, 256, 14, 14]     [8, 256, 14, 14]     (512)                False\n",
       "│    │    └─ReLU (relu)                  [8, 256, 14, 14]     [8, 256, 14, 14]     --                   --\n",
       "│    │    └─Conv2d (conv3)               [8, 256, 14, 14]     [8, 1024, 14, 14]    (262,144)            False\n",
       "│    │    └─BatchNorm2d (bn3)            [8, 1024, 14, 14]    [8, 1024, 14, 14]    (2,048)              False\n",
       "│    │    └─ReLU (relu)                  [8, 1024, 14, 14]    [8, 1024, 14, 14]    --                   --\n",
       "│    └─Bottleneck (2)                    [8, 1024, 14, 14]    [8, 1024, 14, 14]    --                   False\n",
       "│    │    └─Conv2d (conv1)               [8, 1024, 14, 14]    [8, 256, 14, 14]     (262,144)            False\n",
       "│    │    └─BatchNorm2d (bn1)            [8, 256, 14, 14]     [8, 256, 14, 14]     (512)                False\n",
       "│    │    └─ReLU (relu)                  [8, 256, 14, 14]     [8, 256, 14, 14]     --                   --\n",
       "│    │    └─Conv2d (conv2)               [8, 256, 14, 14]     [8, 256, 14, 14]     (589,824)            False\n",
       "│    │    └─BatchNorm2d (bn2)            [8, 256, 14, 14]     [8, 256, 14, 14]     (512)                False\n",
       "│    │    └─ReLU (relu)                  [8, 256, 14, 14]     [8, 256, 14, 14]     --                   --\n",
       "│    │    └─Conv2d (conv3)               [8, 256, 14, 14]     [8, 1024, 14, 14]    (262,144)            False\n",
       "│    │    └─BatchNorm2d (bn3)            [8, 1024, 14, 14]    [8, 1024, 14, 14]    (2,048)              False\n",
       "│    │    └─ReLU (relu)                  [8, 1024, 14, 14]    [8, 1024, 14, 14]    --                   --\n",
       "│    └─Bottleneck (3)                    [8, 1024, 14, 14]    [8, 1024, 14, 14]    --                   False\n",
       "│    │    └─Conv2d (conv1)               [8, 1024, 14, 14]    [8, 256, 14, 14]     (262,144)            False\n",
       "│    │    └─BatchNorm2d (bn1)            [8, 256, 14, 14]     [8, 256, 14, 14]     (512)                False\n",
       "│    │    └─ReLU (relu)                  [8, 256, 14, 14]     [8, 256, 14, 14]     --                   --\n",
       "│    │    └─Conv2d (conv2)               [8, 256, 14, 14]     [8, 256, 14, 14]     (589,824)            False\n",
       "│    │    └─BatchNorm2d (bn2)            [8, 256, 14, 14]     [8, 256, 14, 14]     (512)                False\n",
       "│    │    └─ReLU (relu)                  [8, 256, 14, 14]     [8, 256, 14, 14]     --                   --\n",
       "│    │    └─Conv2d (conv3)               [8, 256, 14, 14]     [8, 1024, 14, 14]    (262,144)            False\n",
       "│    │    └─BatchNorm2d (bn3)            [8, 1024, 14, 14]    [8, 1024, 14, 14]    (2,048)              False\n",
       "│    │    └─ReLU (relu)                  [8, 1024, 14, 14]    [8, 1024, 14, 14]    --                   --\n",
       "│    └─Bottleneck (4)                    [8, 1024, 14, 14]    [8, 1024, 14, 14]    --                   False\n",
       "│    │    └─Conv2d (conv1)               [8, 1024, 14, 14]    [8, 256, 14, 14]     (262,144)            False\n",
       "│    │    └─BatchNorm2d (bn1)            [8, 256, 14, 14]     [8, 256, 14, 14]     (512)                False\n",
       "│    │    └─ReLU (relu)                  [8, 256, 14, 14]     [8, 256, 14, 14]     --                   --\n",
       "│    │    └─Conv2d (conv2)               [8, 256, 14, 14]     [8, 256, 14, 14]     (589,824)            False\n",
       "│    │    └─BatchNorm2d (bn2)            [8, 256, 14, 14]     [8, 256, 14, 14]     (512)                False\n",
       "│    │    └─ReLU (relu)                  [8, 256, 14, 14]     [8, 256, 14, 14]     --                   --\n",
       "│    │    └─Conv2d (conv3)               [8, 256, 14, 14]     [8, 1024, 14, 14]    (262,144)            False\n",
       "│    │    └─BatchNorm2d (bn3)            [8, 1024, 14, 14]    [8, 1024, 14, 14]    (2,048)              False\n",
       "│    │    └─ReLU (relu)                  [8, 1024, 14, 14]    [8, 1024, 14, 14]    --                   --\n",
       "│    └─Bottleneck (5)                    [8, 1024, 14, 14]    [8, 1024, 14, 14]    --                   False\n",
       "│    │    └─Conv2d (conv1)               [8, 1024, 14, 14]    [8, 256, 14, 14]     (262,144)            False\n",
       "│    │    └─BatchNorm2d (bn1)            [8, 256, 14, 14]     [8, 256, 14, 14]     (512)                False\n",
       "│    │    └─ReLU (relu)                  [8, 256, 14, 14]     [8, 256, 14, 14]     --                   --\n",
       "│    │    └─Conv2d (conv2)               [8, 256, 14, 14]     [8, 256, 14, 14]     (589,824)            False\n",
       "│    │    └─BatchNorm2d (bn2)            [8, 256, 14, 14]     [8, 256, 14, 14]     (512)                False\n",
       "│    │    └─ReLU (relu)                  [8, 256, 14, 14]     [8, 256, 14, 14]     --                   --\n",
       "│    │    └─Conv2d (conv3)               [8, 256, 14, 14]     [8, 1024, 14, 14]    (262,144)            False\n",
       "│    │    └─BatchNorm2d (bn3)            [8, 1024, 14, 14]    [8, 1024, 14, 14]    (2,048)              False\n",
       "│    │    └─ReLU (relu)                  [8, 1024, 14, 14]    [8, 1024, 14, 14]    --                   --\n",
       "├─Sequential (layer4)                    [8, 1024, 14, 14]    [8, 2048, 7, 7]      --                   False\n",
       "│    └─Bottleneck (0)                    [8, 1024, 14, 14]    [8, 2048, 7, 7]      --                   False\n",
       "│    │    └─Conv2d (conv1)               [8, 1024, 14, 14]    [8, 512, 14, 14]     (524,288)            False\n",
       "│    │    └─BatchNorm2d (bn1)            [8, 512, 14, 14]     [8, 512, 14, 14]     (1,024)              False\n",
       "│    │    └─ReLU (relu)                  [8, 512, 14, 14]     [8, 512, 14, 14]     --                   --\n",
       "│    │    └─Conv2d (conv2)               [8, 512, 14, 14]     [8, 512, 7, 7]       (2,359,296)          False\n",
       "│    │    └─BatchNorm2d (bn2)            [8, 512, 7, 7]       [8, 512, 7, 7]       (1,024)              False\n",
       "│    │    └─ReLU (relu)                  [8, 512, 7, 7]       [8, 512, 7, 7]       --                   --\n",
       "│    │    └─Conv2d (conv3)               [8, 512, 7, 7]       [8, 2048, 7, 7]      (1,048,576)          False\n",
       "│    │    └─BatchNorm2d (bn3)            [8, 2048, 7, 7]      [8, 2048, 7, 7]      (4,096)              False\n",
       "│    │    └─Sequential (downsample)      [8, 1024, 14, 14]    [8, 2048, 7, 7]      (2,101,248)          False\n",
       "│    │    └─ReLU (relu)                  [8, 2048, 7, 7]      [8, 2048, 7, 7]      --                   --\n",
       "│    └─Bottleneck (1)                    [8, 2048, 7, 7]      [8, 2048, 7, 7]      --                   False\n",
       "│    │    └─Conv2d (conv1)               [8, 2048, 7, 7]      [8, 512, 7, 7]       (1,048,576)          False\n",
       "│    │    └─BatchNorm2d (bn1)            [8, 512, 7, 7]       [8, 512, 7, 7]       (1,024)              False\n",
       "│    │    └─ReLU (relu)                  [8, 512, 7, 7]       [8, 512, 7, 7]       --                   --\n",
       "│    │    └─Conv2d (conv2)               [8, 512, 7, 7]       [8, 512, 7, 7]       (2,359,296)          False\n",
       "│    │    └─BatchNorm2d (bn2)            [8, 512, 7, 7]       [8, 512, 7, 7]       (1,024)              False\n",
       "│    │    └─ReLU (relu)                  [8, 512, 7, 7]       [8, 512, 7, 7]       --                   --\n",
       "│    │    └─Conv2d (conv3)               [8, 512, 7, 7]       [8, 2048, 7, 7]      (1,048,576)          False\n",
       "│    │    └─BatchNorm2d (bn3)            [8, 2048, 7, 7]      [8, 2048, 7, 7]      (4,096)              False\n",
       "│    │    └─ReLU (relu)                  [8, 2048, 7, 7]      [8, 2048, 7, 7]      --                   --\n",
       "│    └─Bottleneck (2)                    [8, 2048, 7, 7]      [8, 2048, 7, 7]      --                   False\n",
       "│    │    └─Conv2d (conv1)               [8, 2048, 7, 7]      [8, 512, 7, 7]       (1,048,576)          False\n",
       "│    │    └─BatchNorm2d (bn1)            [8, 512, 7, 7]       [8, 512, 7, 7]       (1,024)              False\n",
       "│    │    └─ReLU (relu)                  [8, 512, 7, 7]       [8, 512, 7, 7]       --                   --\n",
       "│    │    └─Conv2d (conv2)               [8, 512, 7, 7]       [8, 512, 7, 7]       (2,359,296)          False\n",
       "│    │    └─BatchNorm2d (bn2)            [8, 512, 7, 7]       [8, 512, 7, 7]       (1,024)              False\n",
       "│    │    └─ReLU (relu)                  [8, 512, 7, 7]       [8, 512, 7, 7]       --                   --\n",
       "│    │    └─Conv2d (conv3)               [8, 512, 7, 7]       [8, 2048, 7, 7]      (1,048,576)          False\n",
       "│    │    └─BatchNorm2d (bn3)            [8, 2048, 7, 7]      [8, 2048, 7, 7]      (4,096)              False\n",
       "│    │    └─ReLU (relu)                  [8, 2048, 7, 7]      [8, 2048, 7, 7]      --                   --\n",
       "├─AdaptiveAvgPool2d (avgpool)            [8, 2048, 7, 7]      [8, 2048, 1, 1]      --                   --\n",
       "├─Linear (fc)                            [8, 2048]            [8, 1000]            2,049,000            True\n",
       "========================================================================================================================\n",
       "Total params: 25,557,032\n",
       "Trainable params: 2,049,000\n",
       "Non-trainable params: 23,508,032\n",
       "Total mult-adds (G): 32.71\n",
       "========================================================================================================================\n",
       "Input size (MB): 4.82\n",
       "Forward/backward pass size (MB): 1422.65\n",
       "Params size (MB): 102.23\n",
       "Estimated Total Size (MB): 1529.70\n",
       "========================================================================================================================"
      ]
     },
     "execution_count": 30,
     "metadata": {},
     "output_type": "execute_result"
    }
   ],
   "source": [
    "summary(model=model, \n",
    "        input_size=(8, 3, 224, 224),\n",
    "        col_names=[\"input_size\", \"output_size\", \"num_params\", \"trainable\"],\n",
    "        col_width=20,\n",
    "        row_settings=[\"var_names\"]\n",
    ") "
   ]
  },
  {
   "cell_type": "code",
   "execution_count": 31,
   "metadata": {},
   "outputs": [
    {
     "name": "stdout",
     "output_type": "stream",
     "text": [
      "ResNet(\n",
      "  (conv1): Conv2d(3, 64, kernel_size=(7, 7), stride=(2, 2), padding=(3, 3), bias=False)\n",
      "  (bn1): BatchNorm2d(64, eps=1e-05, momentum=0.1, affine=True, track_running_stats=True)\n",
      "  (relu): ReLU(inplace=True)\n",
      "  (maxpool): MaxPool2d(kernel_size=3, stride=2, padding=1, dilation=1, ceil_mode=False)\n",
      "  (layer1): Sequential(\n",
      "    (0): Bottleneck(\n",
      "      (conv1): Conv2d(64, 64, kernel_size=(1, 1), stride=(1, 1), bias=False)\n",
      "      (bn1): BatchNorm2d(64, eps=1e-05, momentum=0.1, affine=True, track_running_stats=True)\n",
      "      (conv2): Conv2d(64, 64, kernel_size=(3, 3), stride=(1, 1), padding=(1, 1), bias=False)\n",
      "      (bn2): BatchNorm2d(64, eps=1e-05, momentum=0.1, affine=True, track_running_stats=True)\n",
      "      (conv3): Conv2d(64, 256, kernel_size=(1, 1), stride=(1, 1), bias=False)\n",
      "      (bn3): BatchNorm2d(256, eps=1e-05, momentum=0.1, affine=True, track_running_stats=True)\n",
      "      (relu): ReLU(inplace=True)\n",
      "      (downsample): Sequential(\n",
      "        (0): Conv2d(64, 256, kernel_size=(1, 1), stride=(1, 1), bias=False)\n",
      "        (1): BatchNorm2d(256, eps=1e-05, momentum=0.1, affine=True, track_running_stats=True)\n",
      "      )\n",
      "    )\n",
      "    (1): Bottleneck(\n",
      "      (conv1): Conv2d(256, 64, kernel_size=(1, 1), stride=(1, 1), bias=False)\n",
      "      (bn1): BatchNorm2d(64, eps=1e-05, momentum=0.1, affine=True, track_running_stats=True)\n",
      "      (conv2): Conv2d(64, 64, kernel_size=(3, 3), stride=(1, 1), padding=(1, 1), bias=False)\n",
      "      (bn2): BatchNorm2d(64, eps=1e-05, momentum=0.1, affine=True, track_running_stats=True)\n",
      "      (conv3): Conv2d(64, 256, kernel_size=(1, 1), stride=(1, 1), bias=False)\n",
      "      (bn3): BatchNorm2d(256, eps=1e-05, momentum=0.1, affine=True, track_running_stats=True)\n",
      "      (relu): ReLU(inplace=True)\n",
      "    )\n",
      "    (2): Bottleneck(\n",
      "      (conv1): Conv2d(256, 64, kernel_size=(1, 1), stride=(1, 1), bias=False)\n",
      "      (bn1): BatchNorm2d(64, eps=1e-05, momentum=0.1, affine=True, track_running_stats=True)\n",
      "      (conv2): Conv2d(64, 64, kernel_size=(3, 3), stride=(1, 1), padding=(1, 1), bias=False)\n",
      "      (bn2): BatchNorm2d(64, eps=1e-05, momentum=0.1, affine=True, track_running_stats=True)\n",
      "      (conv3): Conv2d(64, 256, kernel_size=(1, 1), stride=(1, 1), bias=False)\n",
      "      (bn3): BatchNorm2d(256, eps=1e-05, momentum=0.1, affine=True, track_running_stats=True)\n",
      "      (relu): ReLU(inplace=True)\n",
      "    )\n",
      "  )\n",
      "  (layer2): Sequential(\n",
      "    (0): Bottleneck(\n",
      "      (conv1): Conv2d(256, 128, kernel_size=(1, 1), stride=(1, 1), bias=False)\n",
      "      (bn1): BatchNorm2d(128, eps=1e-05, momentum=0.1, affine=True, track_running_stats=True)\n",
      "      (conv2): Conv2d(128, 128, kernel_size=(3, 3), stride=(2, 2), padding=(1, 1), bias=False)\n",
      "      (bn2): BatchNorm2d(128, eps=1e-05, momentum=0.1, affine=True, track_running_stats=True)\n",
      "      (conv3): Conv2d(128, 512, kernel_size=(1, 1), stride=(1, 1), bias=False)\n",
      "      (bn3): BatchNorm2d(512, eps=1e-05, momentum=0.1, affine=True, track_running_stats=True)\n",
      "      (relu): ReLU(inplace=True)\n",
      "      (downsample): Sequential(\n",
      "        (0): Conv2d(256, 512, kernel_size=(1, 1), stride=(2, 2), bias=False)\n",
      "        (1): BatchNorm2d(512, eps=1e-05, momentum=0.1, affine=True, track_running_stats=True)\n",
      "      )\n",
      "    )\n",
      "    (1): Bottleneck(\n",
      "      (conv1): Conv2d(512, 128, kernel_size=(1, 1), stride=(1, 1), bias=False)\n",
      "      (bn1): BatchNorm2d(128, eps=1e-05, momentum=0.1, affine=True, track_running_stats=True)\n",
      "      (conv2): Conv2d(128, 128, kernel_size=(3, 3), stride=(1, 1), padding=(1, 1), bias=False)\n",
      "      (bn2): BatchNorm2d(128, eps=1e-05, momentum=0.1, affine=True, track_running_stats=True)\n",
      "      (conv3): Conv2d(128, 512, kernel_size=(1, 1), stride=(1, 1), bias=False)\n",
      "      (bn3): BatchNorm2d(512, eps=1e-05, momentum=0.1, affine=True, track_running_stats=True)\n",
      "      (relu): ReLU(inplace=True)\n",
      "    )\n",
      "    (2): Bottleneck(\n",
      "      (conv1): Conv2d(512, 128, kernel_size=(1, 1), stride=(1, 1), bias=False)\n",
      "      (bn1): BatchNorm2d(128, eps=1e-05, momentum=0.1, affine=True, track_running_stats=True)\n",
      "      (conv2): Conv2d(128, 128, kernel_size=(3, 3), stride=(1, 1), padding=(1, 1), bias=False)\n",
      "      (bn2): BatchNorm2d(128, eps=1e-05, momentum=0.1, affine=True, track_running_stats=True)\n",
      "      (conv3): Conv2d(128, 512, kernel_size=(1, 1), stride=(1, 1), bias=False)\n",
      "      (bn3): BatchNorm2d(512, eps=1e-05, momentum=0.1, affine=True, track_running_stats=True)\n",
      "      (relu): ReLU(inplace=True)\n",
      "    )\n",
      "    (3): Bottleneck(\n",
      "      (conv1): Conv2d(512, 128, kernel_size=(1, 1), stride=(1, 1), bias=False)\n",
      "      (bn1): BatchNorm2d(128, eps=1e-05, momentum=0.1, affine=True, track_running_stats=True)\n",
      "      (conv2): Conv2d(128, 128, kernel_size=(3, 3), stride=(1, 1), padding=(1, 1), bias=False)\n",
      "      (bn2): BatchNorm2d(128, eps=1e-05, momentum=0.1, affine=True, track_running_stats=True)\n",
      "      (conv3): Conv2d(128, 512, kernel_size=(1, 1), stride=(1, 1), bias=False)\n",
      "      (bn3): BatchNorm2d(512, eps=1e-05, momentum=0.1, affine=True, track_running_stats=True)\n",
      "      (relu): ReLU(inplace=True)\n",
      "    )\n",
      "  )\n",
      "  (layer3): Sequential(\n",
      "    (0): Bottleneck(\n",
      "      (conv1): Conv2d(512, 256, kernel_size=(1, 1), stride=(1, 1), bias=False)\n",
      "      (bn1): BatchNorm2d(256, eps=1e-05, momentum=0.1, affine=True, track_running_stats=True)\n",
      "      (conv2): Conv2d(256, 256, kernel_size=(3, 3), stride=(2, 2), padding=(1, 1), bias=False)\n",
      "      (bn2): BatchNorm2d(256, eps=1e-05, momentum=0.1, affine=True, track_running_stats=True)\n",
      "      (conv3): Conv2d(256, 1024, kernel_size=(1, 1), stride=(1, 1), bias=False)\n",
      "      (bn3): BatchNorm2d(1024, eps=1e-05, momentum=0.1, affine=True, track_running_stats=True)\n",
      "      (relu): ReLU(inplace=True)\n",
      "      (downsample): Sequential(\n",
      "        (0): Conv2d(512, 1024, kernel_size=(1, 1), stride=(2, 2), bias=False)\n",
      "        (1): BatchNorm2d(1024, eps=1e-05, momentum=0.1, affine=True, track_running_stats=True)\n",
      "      )\n",
      "    )\n",
      "    (1): Bottleneck(\n",
      "      (conv1): Conv2d(1024, 256, kernel_size=(1, 1), stride=(1, 1), bias=False)\n",
      "      (bn1): BatchNorm2d(256, eps=1e-05, momentum=0.1, affine=True, track_running_stats=True)\n",
      "      (conv2): Conv2d(256, 256, kernel_size=(3, 3), stride=(1, 1), padding=(1, 1), bias=False)\n",
      "      (bn2): BatchNorm2d(256, eps=1e-05, momentum=0.1, affine=True, track_running_stats=True)\n",
      "      (conv3): Conv2d(256, 1024, kernel_size=(1, 1), stride=(1, 1), bias=False)\n",
      "      (bn3): BatchNorm2d(1024, eps=1e-05, momentum=0.1, affine=True, track_running_stats=True)\n",
      "      (relu): ReLU(inplace=True)\n",
      "    )\n",
      "    (2): Bottleneck(\n",
      "      (conv1): Conv2d(1024, 256, kernel_size=(1, 1), stride=(1, 1), bias=False)\n",
      "      (bn1): BatchNorm2d(256, eps=1e-05, momentum=0.1, affine=True, track_running_stats=True)\n",
      "      (conv2): Conv2d(256, 256, kernel_size=(3, 3), stride=(1, 1), padding=(1, 1), bias=False)\n",
      "      (bn2): BatchNorm2d(256, eps=1e-05, momentum=0.1, affine=True, track_running_stats=True)\n",
      "      (conv3): Conv2d(256, 1024, kernel_size=(1, 1), stride=(1, 1), bias=False)\n",
      "      (bn3): BatchNorm2d(1024, eps=1e-05, momentum=0.1, affine=True, track_running_stats=True)\n",
      "      (relu): ReLU(inplace=True)\n",
      "    )\n",
      "    (3): Bottleneck(\n",
      "      (conv1): Conv2d(1024, 256, kernel_size=(1, 1), stride=(1, 1), bias=False)\n",
      "      (bn1): BatchNorm2d(256, eps=1e-05, momentum=0.1, affine=True, track_running_stats=True)\n",
      "      (conv2): Conv2d(256, 256, kernel_size=(3, 3), stride=(1, 1), padding=(1, 1), bias=False)\n",
      "      (bn2): BatchNorm2d(256, eps=1e-05, momentum=0.1, affine=True, track_running_stats=True)\n",
      "      (conv3): Conv2d(256, 1024, kernel_size=(1, 1), stride=(1, 1), bias=False)\n",
      "      (bn3): BatchNorm2d(1024, eps=1e-05, momentum=0.1, affine=True, track_running_stats=True)\n",
      "      (relu): ReLU(inplace=True)\n",
      "    )\n",
      "    (4): Bottleneck(\n",
      "      (conv1): Conv2d(1024, 256, kernel_size=(1, 1), stride=(1, 1), bias=False)\n",
      "      (bn1): BatchNorm2d(256, eps=1e-05, momentum=0.1, affine=True, track_running_stats=True)\n",
      "      (conv2): Conv2d(256, 256, kernel_size=(3, 3), stride=(1, 1), padding=(1, 1), bias=False)\n",
      "      (bn2): BatchNorm2d(256, eps=1e-05, momentum=0.1, affine=True, track_running_stats=True)\n",
      "      (conv3): Conv2d(256, 1024, kernel_size=(1, 1), stride=(1, 1), bias=False)\n",
      "      (bn3): BatchNorm2d(1024, eps=1e-05, momentum=0.1, affine=True, track_running_stats=True)\n",
      "      (relu): ReLU(inplace=True)\n",
      "    )\n",
      "    (5): Bottleneck(\n",
      "      (conv1): Conv2d(1024, 256, kernel_size=(1, 1), stride=(1, 1), bias=False)\n",
      "      (bn1): BatchNorm2d(256, eps=1e-05, momentum=0.1, affine=True, track_running_stats=True)\n",
      "      (conv2): Conv2d(256, 256, kernel_size=(3, 3), stride=(1, 1), padding=(1, 1), bias=False)\n",
      "      (bn2): BatchNorm2d(256, eps=1e-05, momentum=0.1, affine=True, track_running_stats=True)\n",
      "      (conv3): Conv2d(256, 1024, kernel_size=(1, 1), stride=(1, 1), bias=False)\n",
      "      (bn3): BatchNorm2d(1024, eps=1e-05, momentum=0.1, affine=True, track_running_stats=True)\n",
      "      (relu): ReLU(inplace=True)\n",
      "    )\n",
      "  )\n",
      "  (layer4): Sequential(\n",
      "    (0): Bottleneck(\n",
      "      (conv1): Conv2d(1024, 512, kernel_size=(1, 1), stride=(1, 1), bias=False)\n",
      "      (bn1): BatchNorm2d(512, eps=1e-05, momentum=0.1, affine=True, track_running_stats=True)\n",
      "      (conv2): Conv2d(512, 512, kernel_size=(3, 3), stride=(2, 2), padding=(1, 1), bias=False)\n",
      "      (bn2): BatchNorm2d(512, eps=1e-05, momentum=0.1, affine=True, track_running_stats=True)\n",
      "      (conv3): Conv2d(512, 2048, kernel_size=(1, 1), stride=(1, 1), bias=False)\n",
      "      (bn3): BatchNorm2d(2048, eps=1e-05, momentum=0.1, affine=True, track_running_stats=True)\n",
      "      (relu): ReLU(inplace=True)\n",
      "      (downsample): Sequential(\n",
      "        (0): Conv2d(1024, 2048, kernel_size=(1, 1), stride=(2, 2), bias=False)\n",
      "        (1): BatchNorm2d(2048, eps=1e-05, momentum=0.1, affine=True, track_running_stats=True)\n",
      "      )\n",
      "    )\n",
      "    (1): Bottleneck(\n",
      "      (conv1): Conv2d(2048, 512, kernel_size=(1, 1), stride=(1, 1), bias=False)\n",
      "      (bn1): BatchNorm2d(512, eps=1e-05, momentum=0.1, affine=True, track_running_stats=True)\n",
      "      (conv2): Conv2d(512, 512, kernel_size=(3, 3), stride=(1, 1), padding=(1, 1), bias=False)\n",
      "      (bn2): BatchNorm2d(512, eps=1e-05, momentum=0.1, affine=True, track_running_stats=True)\n",
      "      (conv3): Conv2d(512, 2048, kernel_size=(1, 1), stride=(1, 1), bias=False)\n",
      "      (bn3): BatchNorm2d(2048, eps=1e-05, momentum=0.1, affine=True, track_running_stats=True)\n",
      "      (relu): ReLU(inplace=True)\n",
      "    )\n",
      "    (2): Bottleneck(\n",
      "      (conv1): Conv2d(2048, 512, kernel_size=(1, 1), stride=(1, 1), bias=False)\n",
      "      (bn1): BatchNorm2d(512, eps=1e-05, momentum=0.1, affine=True, track_running_stats=True)\n",
      "      (conv2): Conv2d(512, 512, kernel_size=(3, 3), stride=(1, 1), padding=(1, 1), bias=False)\n",
      "      (bn2): BatchNorm2d(512, eps=1e-05, momentum=0.1, affine=True, track_running_stats=True)\n",
      "      (conv3): Conv2d(512, 2048, kernel_size=(1, 1), stride=(1, 1), bias=False)\n",
      "      (bn3): BatchNorm2d(2048, eps=1e-05, momentum=0.1, affine=True, track_running_stats=True)\n",
      "      (relu): ReLU(inplace=True)\n",
      "    )\n",
      "  )\n",
      "  (avgpool): AdaptiveAvgPool2d(output_size=(1, 1))\n",
      "  (fc): Linear(in_features=2048, out_features=4, bias=True)\n",
      ")\n"
     ]
    }
   ],
   "source": [
    "import torch\n",
    "import torch.nn as nn\n",
    "import torchvision.models as models\n",
    "\n",
    "def resnet_output(num_classes):\n",
    "    model = models.resnet50(pretrained=True)\n",
    "\n",
    "    input_size = model.fc.in_features\n",
    "\n",
    "    # Defining the new output layer\n",
    "    new_fc = nn.Linear(input_size, num_classes)\n",
    "\n",
    "    # Replacing the existing output layer with the new one\n",
    "    model.fc = new_fc\n",
    "\n",
    "    return model\n",
    "\n",
    "# Example usage:\n",
    "num_classes = 4  # Example number of classes\n",
    "model = resnet_output(num_classes)\n",
    "print(model)\n"
   ]
  },
  {
   "cell_type": "code",
   "execution_count": 32,
   "metadata": {},
   "outputs": [
    {
     "data": {
      "text/plain": [
       "========================================================================================================================\n",
       "Layer (type (var_name))                  Input Shape          Output Shape         Param #              Trainable\n",
       "========================================================================================================================\n",
       "ResNet (ResNet)                          [8, 3, 224, 224]     [8, 4]               --                   True\n",
       "├─Conv2d (conv1)                         [8, 3, 224, 224]     [8, 64, 112, 112]    9,408                True\n",
       "├─BatchNorm2d (bn1)                      [8, 64, 112, 112]    [8, 64, 112, 112]    128                  True\n",
       "├─ReLU (relu)                            [8, 64, 112, 112]    [8, 64, 112, 112]    --                   --\n",
       "├─MaxPool2d (maxpool)                    [8, 64, 112, 112]    [8, 64, 56, 56]      --                   --\n",
       "├─Sequential (layer1)                    [8, 64, 56, 56]      [8, 256, 56, 56]     --                   True\n",
       "│    └─Bottleneck (0)                    [8, 64, 56, 56]      [8, 256, 56, 56]     --                   True\n",
       "│    │    └─Conv2d (conv1)               [8, 64, 56, 56]      [8, 64, 56, 56]      4,096                True\n",
       "│    │    └─BatchNorm2d (bn1)            [8, 64, 56, 56]      [8, 64, 56, 56]      128                  True\n",
       "│    │    └─ReLU (relu)                  [8, 64, 56, 56]      [8, 64, 56, 56]      --                   --\n",
       "│    │    └─Conv2d (conv2)               [8, 64, 56, 56]      [8, 64, 56, 56]      36,864               True\n",
       "│    │    └─BatchNorm2d (bn2)            [8, 64, 56, 56]      [8, 64, 56, 56]      128                  True\n",
       "│    │    └─ReLU (relu)                  [8, 64, 56, 56]      [8, 64, 56, 56]      --                   --\n",
       "│    │    └─Conv2d (conv3)               [8, 64, 56, 56]      [8, 256, 56, 56]     16,384               True\n",
       "│    │    └─BatchNorm2d (bn3)            [8, 256, 56, 56]     [8, 256, 56, 56]     512                  True\n",
       "│    │    └─Sequential (downsample)      [8, 64, 56, 56]      [8, 256, 56, 56]     16,896               True\n",
       "│    │    └─ReLU (relu)                  [8, 256, 56, 56]     [8, 256, 56, 56]     --                   --\n",
       "│    └─Bottleneck (1)                    [8, 256, 56, 56]     [8, 256, 56, 56]     --                   True\n",
       "│    │    └─Conv2d (conv1)               [8, 256, 56, 56]     [8, 64, 56, 56]      16,384               True\n",
       "│    │    └─BatchNorm2d (bn1)            [8, 64, 56, 56]      [8, 64, 56, 56]      128                  True\n",
       "│    │    └─ReLU (relu)                  [8, 64, 56, 56]      [8, 64, 56, 56]      --                   --\n",
       "│    │    └─Conv2d (conv2)               [8, 64, 56, 56]      [8, 64, 56, 56]      36,864               True\n",
       "│    │    └─BatchNorm2d (bn2)            [8, 64, 56, 56]      [8, 64, 56, 56]      128                  True\n",
       "│    │    └─ReLU (relu)                  [8, 64, 56, 56]      [8, 64, 56, 56]      --                   --\n",
       "│    │    └─Conv2d (conv3)               [8, 64, 56, 56]      [8, 256, 56, 56]     16,384               True\n",
       "│    │    └─BatchNorm2d (bn3)            [8, 256, 56, 56]     [8, 256, 56, 56]     512                  True\n",
       "│    │    └─ReLU (relu)                  [8, 256, 56, 56]     [8, 256, 56, 56]     --                   --\n",
       "│    └─Bottleneck (2)                    [8, 256, 56, 56]     [8, 256, 56, 56]     --                   True\n",
       "│    │    └─Conv2d (conv1)               [8, 256, 56, 56]     [8, 64, 56, 56]      16,384               True\n",
       "│    │    └─BatchNorm2d (bn1)            [8, 64, 56, 56]      [8, 64, 56, 56]      128                  True\n",
       "│    │    └─ReLU (relu)                  [8, 64, 56, 56]      [8, 64, 56, 56]      --                   --\n",
       "│    │    └─Conv2d (conv2)               [8, 64, 56, 56]      [8, 64, 56, 56]      36,864               True\n",
       "│    │    └─BatchNorm2d (bn2)            [8, 64, 56, 56]      [8, 64, 56, 56]      128                  True\n",
       "│    │    └─ReLU (relu)                  [8, 64, 56, 56]      [8, 64, 56, 56]      --                   --\n",
       "│    │    └─Conv2d (conv3)               [8, 64, 56, 56]      [8, 256, 56, 56]     16,384               True\n",
       "│    │    └─BatchNorm2d (bn3)            [8, 256, 56, 56]     [8, 256, 56, 56]     512                  True\n",
       "│    │    └─ReLU (relu)                  [8, 256, 56, 56]     [8, 256, 56, 56]     --                   --\n",
       "├─Sequential (layer2)                    [8, 256, 56, 56]     [8, 512, 28, 28]     --                   True\n",
       "│    └─Bottleneck (0)                    [8, 256, 56, 56]     [8, 512, 28, 28]     --                   True\n",
       "│    │    └─Conv2d (conv1)               [8, 256, 56, 56]     [8, 128, 56, 56]     32,768               True\n",
       "│    │    └─BatchNorm2d (bn1)            [8, 128, 56, 56]     [8, 128, 56, 56]     256                  True\n",
       "│    │    └─ReLU (relu)                  [8, 128, 56, 56]     [8, 128, 56, 56]     --                   --\n",
       "│    │    └─Conv2d (conv2)               [8, 128, 56, 56]     [8, 128, 28, 28]     147,456              True\n",
       "│    │    └─BatchNorm2d (bn2)            [8, 128, 28, 28]     [8, 128, 28, 28]     256                  True\n",
       "│    │    └─ReLU (relu)                  [8, 128, 28, 28]     [8, 128, 28, 28]     --                   --\n",
       "│    │    └─Conv2d (conv3)               [8, 128, 28, 28]     [8, 512, 28, 28]     65,536               True\n",
       "│    │    └─BatchNorm2d (bn3)            [8, 512, 28, 28]     [8, 512, 28, 28]     1,024                True\n",
       "│    │    └─Sequential (downsample)      [8, 256, 56, 56]     [8, 512, 28, 28]     132,096              True\n",
       "│    │    └─ReLU (relu)                  [8, 512, 28, 28]     [8, 512, 28, 28]     --                   --\n",
       "│    └─Bottleneck (1)                    [8, 512, 28, 28]     [8, 512, 28, 28]     --                   True\n",
       "│    │    └─Conv2d (conv1)               [8, 512, 28, 28]     [8, 128, 28, 28]     65,536               True\n",
       "│    │    └─BatchNorm2d (bn1)            [8, 128, 28, 28]     [8, 128, 28, 28]     256                  True\n",
       "│    │    └─ReLU (relu)                  [8, 128, 28, 28]     [8, 128, 28, 28]     --                   --\n",
       "│    │    └─Conv2d (conv2)               [8, 128, 28, 28]     [8, 128, 28, 28]     147,456              True\n",
       "│    │    └─BatchNorm2d (bn2)            [8, 128, 28, 28]     [8, 128, 28, 28]     256                  True\n",
       "│    │    └─ReLU (relu)                  [8, 128, 28, 28]     [8, 128, 28, 28]     --                   --\n",
       "│    │    └─Conv2d (conv3)               [8, 128, 28, 28]     [8, 512, 28, 28]     65,536               True\n",
       "│    │    └─BatchNorm2d (bn3)            [8, 512, 28, 28]     [8, 512, 28, 28]     1,024                True\n",
       "│    │    └─ReLU (relu)                  [8, 512, 28, 28]     [8, 512, 28, 28]     --                   --\n",
       "│    └─Bottleneck (2)                    [8, 512, 28, 28]     [8, 512, 28, 28]     --                   True\n",
       "│    │    └─Conv2d (conv1)               [8, 512, 28, 28]     [8, 128, 28, 28]     65,536               True\n",
       "│    │    └─BatchNorm2d (bn1)            [8, 128, 28, 28]     [8, 128, 28, 28]     256                  True\n",
       "│    │    └─ReLU (relu)                  [8, 128, 28, 28]     [8, 128, 28, 28]     --                   --\n",
       "│    │    └─Conv2d (conv2)               [8, 128, 28, 28]     [8, 128, 28, 28]     147,456              True\n",
       "│    │    └─BatchNorm2d (bn2)            [8, 128, 28, 28]     [8, 128, 28, 28]     256                  True\n",
       "│    │    └─ReLU (relu)                  [8, 128, 28, 28]     [8, 128, 28, 28]     --                   --\n",
       "│    │    └─Conv2d (conv3)               [8, 128, 28, 28]     [8, 512, 28, 28]     65,536               True\n",
       "│    │    └─BatchNorm2d (bn3)            [8, 512, 28, 28]     [8, 512, 28, 28]     1,024                True\n",
       "│    │    └─ReLU (relu)                  [8, 512, 28, 28]     [8, 512, 28, 28]     --                   --\n",
       "│    └─Bottleneck (3)                    [8, 512, 28, 28]     [8, 512, 28, 28]     --                   True\n",
       "│    │    └─Conv2d (conv1)               [8, 512, 28, 28]     [8, 128, 28, 28]     65,536               True\n",
       "│    │    └─BatchNorm2d (bn1)            [8, 128, 28, 28]     [8, 128, 28, 28]     256                  True\n",
       "│    │    └─ReLU (relu)                  [8, 128, 28, 28]     [8, 128, 28, 28]     --                   --\n",
       "│    │    └─Conv2d (conv2)               [8, 128, 28, 28]     [8, 128, 28, 28]     147,456              True\n",
       "│    │    └─BatchNorm2d (bn2)            [8, 128, 28, 28]     [8, 128, 28, 28]     256                  True\n",
       "│    │    └─ReLU (relu)                  [8, 128, 28, 28]     [8, 128, 28, 28]     --                   --\n",
       "│    │    └─Conv2d (conv3)               [8, 128, 28, 28]     [8, 512, 28, 28]     65,536               True\n",
       "│    │    └─BatchNorm2d (bn3)            [8, 512, 28, 28]     [8, 512, 28, 28]     1,024                True\n",
       "│    │    └─ReLU (relu)                  [8, 512, 28, 28]     [8, 512, 28, 28]     --                   --\n",
       "├─Sequential (layer3)                    [8, 512, 28, 28]     [8, 1024, 14, 14]    --                   True\n",
       "│    └─Bottleneck (0)                    [8, 512, 28, 28]     [8, 1024, 14, 14]    --                   True\n",
       "│    │    └─Conv2d (conv1)               [8, 512, 28, 28]     [8, 256, 28, 28]     131,072              True\n",
       "│    │    └─BatchNorm2d (bn1)            [8, 256, 28, 28]     [8, 256, 28, 28]     512                  True\n",
       "│    │    └─ReLU (relu)                  [8, 256, 28, 28]     [8, 256, 28, 28]     --                   --\n",
       "│    │    └─Conv2d (conv2)               [8, 256, 28, 28]     [8, 256, 14, 14]     589,824              True\n",
       "│    │    └─BatchNorm2d (bn2)            [8, 256, 14, 14]     [8, 256, 14, 14]     512                  True\n",
       "│    │    └─ReLU (relu)                  [8, 256, 14, 14]     [8, 256, 14, 14]     --                   --\n",
       "│    │    └─Conv2d (conv3)               [8, 256, 14, 14]     [8, 1024, 14, 14]    262,144              True\n",
       "│    │    └─BatchNorm2d (bn3)            [8, 1024, 14, 14]    [8, 1024, 14, 14]    2,048                True\n",
       "│    │    └─Sequential (downsample)      [8, 512, 28, 28]     [8, 1024, 14, 14]    526,336              True\n",
       "│    │    └─ReLU (relu)                  [8, 1024, 14, 14]    [8, 1024, 14, 14]    --                   --\n",
       "│    └─Bottleneck (1)                    [8, 1024, 14, 14]    [8, 1024, 14, 14]    --                   True\n",
       "│    │    └─Conv2d (conv1)               [8, 1024, 14, 14]    [8, 256, 14, 14]     262,144              True\n",
       "│    │    └─BatchNorm2d (bn1)            [8, 256, 14, 14]     [8, 256, 14, 14]     512                  True\n",
       "│    │    └─ReLU (relu)                  [8, 256, 14, 14]     [8, 256, 14, 14]     --                   --\n",
       "│    │    └─Conv2d (conv2)               [8, 256, 14, 14]     [8, 256, 14, 14]     589,824              True\n",
       "│    │    └─BatchNorm2d (bn2)            [8, 256, 14, 14]     [8, 256, 14, 14]     512                  True\n",
       "│    │    └─ReLU (relu)                  [8, 256, 14, 14]     [8, 256, 14, 14]     --                   --\n",
       "│    │    └─Conv2d (conv3)               [8, 256, 14, 14]     [8, 1024, 14, 14]    262,144              True\n",
       "│    │    └─BatchNorm2d (bn3)            [8, 1024, 14, 14]    [8, 1024, 14, 14]    2,048                True\n",
       "│    │    └─ReLU (relu)                  [8, 1024, 14, 14]    [8, 1024, 14, 14]    --                   --\n",
       "│    └─Bottleneck (2)                    [8, 1024, 14, 14]    [8, 1024, 14, 14]    --                   True\n",
       "│    │    └─Conv2d (conv1)               [8, 1024, 14, 14]    [8, 256, 14, 14]     262,144              True\n",
       "│    │    └─BatchNorm2d (bn1)            [8, 256, 14, 14]     [8, 256, 14, 14]     512                  True\n",
       "│    │    └─ReLU (relu)                  [8, 256, 14, 14]     [8, 256, 14, 14]     --                   --\n",
       "│    │    └─Conv2d (conv2)               [8, 256, 14, 14]     [8, 256, 14, 14]     589,824              True\n",
       "│    │    └─BatchNorm2d (bn2)            [8, 256, 14, 14]     [8, 256, 14, 14]     512                  True\n",
       "│    │    └─ReLU (relu)                  [8, 256, 14, 14]     [8, 256, 14, 14]     --                   --\n",
       "│    │    └─Conv2d (conv3)               [8, 256, 14, 14]     [8, 1024, 14, 14]    262,144              True\n",
       "│    │    └─BatchNorm2d (bn3)            [8, 1024, 14, 14]    [8, 1024, 14, 14]    2,048                True\n",
       "│    │    └─ReLU (relu)                  [8, 1024, 14, 14]    [8, 1024, 14, 14]    --                   --\n",
       "│    └─Bottleneck (3)                    [8, 1024, 14, 14]    [8, 1024, 14, 14]    --                   True\n",
       "│    │    └─Conv2d (conv1)               [8, 1024, 14, 14]    [8, 256, 14, 14]     262,144              True\n",
       "│    │    └─BatchNorm2d (bn1)            [8, 256, 14, 14]     [8, 256, 14, 14]     512                  True\n",
       "│    │    └─ReLU (relu)                  [8, 256, 14, 14]     [8, 256, 14, 14]     --                   --\n",
       "│    │    └─Conv2d (conv2)               [8, 256, 14, 14]     [8, 256, 14, 14]     589,824              True\n",
       "│    │    └─BatchNorm2d (bn2)            [8, 256, 14, 14]     [8, 256, 14, 14]     512                  True\n",
       "│    │    └─ReLU (relu)                  [8, 256, 14, 14]     [8, 256, 14, 14]     --                   --\n",
       "│    │    └─Conv2d (conv3)               [8, 256, 14, 14]     [8, 1024, 14, 14]    262,144              True\n",
       "│    │    └─BatchNorm2d (bn3)            [8, 1024, 14, 14]    [8, 1024, 14, 14]    2,048                True\n",
       "│    │    └─ReLU (relu)                  [8, 1024, 14, 14]    [8, 1024, 14, 14]    --                   --\n",
       "│    └─Bottleneck (4)                    [8, 1024, 14, 14]    [8, 1024, 14, 14]    --                   True\n",
       "│    │    └─Conv2d (conv1)               [8, 1024, 14, 14]    [8, 256, 14, 14]     262,144              True\n",
       "│    │    └─BatchNorm2d (bn1)            [8, 256, 14, 14]     [8, 256, 14, 14]     512                  True\n",
       "│    │    └─ReLU (relu)                  [8, 256, 14, 14]     [8, 256, 14, 14]     --                   --\n",
       "│    │    └─Conv2d (conv2)               [8, 256, 14, 14]     [8, 256, 14, 14]     589,824              True\n",
       "│    │    └─BatchNorm2d (bn2)            [8, 256, 14, 14]     [8, 256, 14, 14]     512                  True\n",
       "│    │    └─ReLU (relu)                  [8, 256, 14, 14]     [8, 256, 14, 14]     --                   --\n",
       "│    │    └─Conv2d (conv3)               [8, 256, 14, 14]     [8, 1024, 14, 14]    262,144              True\n",
       "│    │    └─BatchNorm2d (bn3)            [8, 1024, 14, 14]    [8, 1024, 14, 14]    2,048                True\n",
       "│    │    └─ReLU (relu)                  [8, 1024, 14, 14]    [8, 1024, 14, 14]    --                   --\n",
       "│    └─Bottleneck (5)                    [8, 1024, 14, 14]    [8, 1024, 14, 14]    --                   True\n",
       "│    │    └─Conv2d (conv1)               [8, 1024, 14, 14]    [8, 256, 14, 14]     262,144              True\n",
       "│    │    └─BatchNorm2d (bn1)            [8, 256, 14, 14]     [8, 256, 14, 14]     512                  True\n",
       "│    │    └─ReLU (relu)                  [8, 256, 14, 14]     [8, 256, 14, 14]     --                   --\n",
       "│    │    └─Conv2d (conv2)               [8, 256, 14, 14]     [8, 256, 14, 14]     589,824              True\n",
       "│    │    └─BatchNorm2d (bn2)            [8, 256, 14, 14]     [8, 256, 14, 14]     512                  True\n",
       "│    │    └─ReLU (relu)                  [8, 256, 14, 14]     [8, 256, 14, 14]     --                   --\n",
       "│    │    └─Conv2d (conv3)               [8, 256, 14, 14]     [8, 1024, 14, 14]    262,144              True\n",
       "│    │    └─BatchNorm2d (bn3)            [8, 1024, 14, 14]    [8, 1024, 14, 14]    2,048                True\n",
       "│    │    └─ReLU (relu)                  [8, 1024, 14, 14]    [8, 1024, 14, 14]    --                   --\n",
       "├─Sequential (layer4)                    [8, 1024, 14, 14]    [8, 2048, 7, 7]      --                   True\n",
       "│    └─Bottleneck (0)                    [8, 1024, 14, 14]    [8, 2048, 7, 7]      --                   True\n",
       "│    │    └─Conv2d (conv1)               [8, 1024, 14, 14]    [8, 512, 14, 14]     524,288              True\n",
       "│    │    └─BatchNorm2d (bn1)            [8, 512, 14, 14]     [8, 512, 14, 14]     1,024                True\n",
       "│    │    └─ReLU (relu)                  [8, 512, 14, 14]     [8, 512, 14, 14]     --                   --\n",
       "│    │    └─Conv2d (conv2)               [8, 512, 14, 14]     [8, 512, 7, 7]       2,359,296            True\n",
       "│    │    └─BatchNorm2d (bn2)            [8, 512, 7, 7]       [8, 512, 7, 7]       1,024                True\n",
       "│    │    └─ReLU (relu)                  [8, 512, 7, 7]       [8, 512, 7, 7]       --                   --\n",
       "│    │    └─Conv2d (conv3)               [8, 512, 7, 7]       [8, 2048, 7, 7]      1,048,576            True\n",
       "│    │    └─BatchNorm2d (bn3)            [8, 2048, 7, 7]      [8, 2048, 7, 7]      4,096                True\n",
       "│    │    └─Sequential (downsample)      [8, 1024, 14, 14]    [8, 2048, 7, 7]      2,101,248            True\n",
       "│    │    └─ReLU (relu)                  [8, 2048, 7, 7]      [8, 2048, 7, 7]      --                   --\n",
       "│    └─Bottleneck (1)                    [8, 2048, 7, 7]      [8, 2048, 7, 7]      --                   True\n",
       "│    │    └─Conv2d (conv1)               [8, 2048, 7, 7]      [8, 512, 7, 7]       1,048,576            True\n",
       "│    │    └─BatchNorm2d (bn1)            [8, 512, 7, 7]       [8, 512, 7, 7]       1,024                True\n",
       "│    │    └─ReLU (relu)                  [8, 512, 7, 7]       [8, 512, 7, 7]       --                   --\n",
       "│    │    └─Conv2d (conv2)               [8, 512, 7, 7]       [8, 512, 7, 7]       2,359,296            True\n",
       "│    │    └─BatchNorm2d (bn2)            [8, 512, 7, 7]       [8, 512, 7, 7]       1,024                True\n",
       "│    │    └─ReLU (relu)                  [8, 512, 7, 7]       [8, 512, 7, 7]       --                   --\n",
       "│    │    └─Conv2d (conv3)               [8, 512, 7, 7]       [8, 2048, 7, 7]      1,048,576            True\n",
       "│    │    └─BatchNorm2d (bn3)            [8, 2048, 7, 7]      [8, 2048, 7, 7]      4,096                True\n",
       "│    │    └─ReLU (relu)                  [8, 2048, 7, 7]      [8, 2048, 7, 7]      --                   --\n",
       "│    └─Bottleneck (2)                    [8, 2048, 7, 7]      [8, 2048, 7, 7]      --                   True\n",
       "│    │    └─Conv2d (conv1)               [8, 2048, 7, 7]      [8, 512, 7, 7]       1,048,576            True\n",
       "│    │    └─BatchNorm2d (bn1)            [8, 512, 7, 7]       [8, 512, 7, 7]       1,024                True\n",
       "│    │    └─ReLU (relu)                  [8, 512, 7, 7]       [8, 512, 7, 7]       --                   --\n",
       "│    │    └─Conv2d (conv2)               [8, 512, 7, 7]       [8, 512, 7, 7]       2,359,296            True\n",
       "│    │    └─BatchNorm2d (bn2)            [8, 512, 7, 7]       [8, 512, 7, 7]       1,024                True\n",
       "│    │    └─ReLU (relu)                  [8, 512, 7, 7]       [8, 512, 7, 7]       --                   --\n",
       "│    │    └─Conv2d (conv3)               [8, 512, 7, 7]       [8, 2048, 7, 7]      1,048,576            True\n",
       "│    │    └─BatchNorm2d (bn3)            [8, 2048, 7, 7]      [8, 2048, 7, 7]      4,096                True\n",
       "│    │    └─ReLU (relu)                  [8, 2048, 7, 7]      [8, 2048, 7, 7]      --                   --\n",
       "├─AdaptiveAvgPool2d (avgpool)            [8, 2048, 7, 7]      [8, 2048, 1, 1]      --                   --\n",
       "├─Linear (fc)                            [8, 2048]            [8, 4]               8,196                True\n",
       "========================================================================================================================\n",
       "Total params: 23,516,228\n",
       "Trainable params: 23,516,228\n",
       "Non-trainable params: 0\n",
       "Total mult-adds (G): 32.70\n",
       "========================================================================================================================\n",
       "Input size (MB): 4.82\n",
       "Forward/backward pass size (MB): 1422.59\n",
       "Params size (MB): 94.06\n",
       "Estimated Total Size (MB): 1521.47\n",
       "========================================================================================================================"
      ]
     },
     "execution_count": 32,
     "metadata": {},
     "output_type": "execute_result"
    }
   ],
   "source": [
    "summary(model, \n",
    "        input_size=(8, 3, 224, 224), # make sure this is \"input_size\", not \"input_shape\" (batch_size, color_channels, height, width)\n",
    "        verbose=0,\n",
    "        col_names=[\"input_size\", \"output_size\", \"num_params\", \"trainable\"],\n",
    "        col_width=20,\n",
    "        row_settings=[\"var_names\"]\n",
    ")"
   ]
  },
  {
   "cell_type": "code",
   "execution_count": 33,
   "metadata": {},
   "outputs": [],
   "source": [
    "loss_fn = nn.CrossEntropyLoss()\n",
    "optimizer = torch.optim.Adam(model.parameters(), lr=0.001, betas=(0.9, 0.99))"
   ]
  },
  {
   "cell_type": "markdown",
   "metadata": {},
   "source": [
    "Training the model"
   ]
  },
  {
   "cell_type": "code",
   "execution_count": 34,
   "metadata": {},
   "outputs": [
    {
     "name": "stderr",
     "output_type": "stream",
     "text": [
      "  0%|          | 0/20 [00:00<?, ?it/s]"
     ]
    },
    {
     "name": "stdout",
     "output_type": "stream",
     "text": [
      "Epoch: 1 | train_loss: 1.267 | train_acc: 0.408 | test_loss: 1.268 | test_acc: 0.456\n"
     ]
    },
    {
     "name": "stderr",
     "output_type": "stream",
     "text": [
      "  5%|▌         | 1/20 [06:51<2:10:12, 411.21s/it]"
     ]
    },
    {
     "name": "stdout",
     "output_type": "stream",
     "text": [
      "Epoch: 2 | train_loss: 0.905 | train_acc: 0.617 | test_loss: 0.719 | test_acc: 0.753\n"
     ]
    },
    {
     "name": "stderr",
     "output_type": "stream",
     "text": [
      " 10%|█         | 2/20 [13:29<2:01:04, 403.58s/it]"
     ]
    },
    {
     "name": "stdout",
     "output_type": "stream",
     "text": [
      "Epoch: 3 | train_loss: 0.669 | train_acc: 0.739 | test_loss: 0.482 | test_acc: 0.833\n"
     ]
    },
    {
     "name": "stderr",
     "output_type": "stream",
     "text": [
      " 15%|█▌        | 3/20 [20:05<1:53:20, 400.01s/it]"
     ]
    },
    {
     "name": "stdout",
     "output_type": "stream",
     "text": [
      "Epoch: 4 | train_loss: 0.559 | train_acc: 0.785 | test_loss: 0.307 | test_acc: 0.895\n"
     ]
    },
    {
     "name": "stderr",
     "output_type": "stream",
     "text": [
      " 20%|██        | 4/20 [26:44<1:46:35, 399.74s/it]"
     ]
    },
    {
     "name": "stdout",
     "output_type": "stream",
     "text": [
      "Epoch: 5 | train_loss: 0.496 | train_acc: 0.812 | test_loss: 0.351 | test_acc: 0.885\n"
     ]
    },
    {
     "name": "stderr",
     "output_type": "stream",
     "text": [
      " 25%|██▌       | 5/20 [33:21<1:39:41, 398.78s/it]"
     ]
    },
    {
     "name": "stdout",
     "output_type": "stream",
     "text": [
      "Epoch: 6 | train_loss: 0.470 | train_acc: 0.828 | test_loss: 0.267 | test_acc: 0.910\n"
     ]
    },
    {
     "name": "stderr",
     "output_type": "stream",
     "text": [
      " 30%|███       | 6/20 [39:59<1:32:59, 398.53s/it]"
     ]
    },
    {
     "name": "stdout",
     "output_type": "stream",
     "text": [
      "Epoch: 7 | train_loss: 0.435 | train_acc: 0.839 | test_loss: 0.270 | test_acc: 0.908\n"
     ]
    },
    {
     "name": "stderr",
     "output_type": "stream",
     "text": [
      " 35%|███▌      | 7/20 [46:33<1:26:02, 397.10s/it]"
     ]
    },
    {
     "name": "stdout",
     "output_type": "stream",
     "text": [
      "Epoch: 8 | train_loss: 0.419 | train_acc: 0.844 | test_loss: 0.247 | test_acc: 0.921\n"
     ]
    },
    {
     "name": "stderr",
     "output_type": "stream",
     "text": [
      " 40%|████      | 8/20 [53:18<1:19:56, 399.67s/it]"
     ]
    },
    {
     "name": "stdout",
     "output_type": "stream",
     "text": [
      "Epoch: 9 | train_loss: 0.394 | train_acc: 0.855 | test_loss: 0.211 | test_acc: 0.930\n"
     ]
    },
    {
     "name": "stderr",
     "output_type": "stream",
     "text": [
      " 45%|████▌     | 9/20 [59:52<1:12:56, 397.83s/it]"
     ]
    },
    {
     "name": "stdout",
     "output_type": "stream",
     "text": [
      "Epoch: 10 | train_loss: 0.383 | train_acc: 0.859 | test_loss: 0.260 | test_acc: 0.915\n"
     ]
    },
    {
     "name": "stderr",
     "output_type": "stream",
     "text": [
      " 50%|█████     | 10/20 [1:06:24<1:05:58, 395.84s/it]"
     ]
    },
    {
     "name": "stdout",
     "output_type": "stream",
     "text": [
      "Epoch: 11 | train_loss: 0.370 | train_acc: 0.864 | test_loss: 0.207 | test_acc: 0.931\n"
     ]
    },
    {
     "name": "stderr",
     "output_type": "stream",
     "text": [
      " 55%|█████▌    | 11/20 [1:12:58<59:17, 395.24s/it]  "
     ]
    },
    {
     "name": "stdout",
     "output_type": "stream",
     "text": [
      "Epoch: 12 | train_loss: 0.355 | train_acc: 0.871 | test_loss: 0.193 | test_acc: 0.935\n"
     ]
    },
    {
     "name": "stderr",
     "output_type": "stream",
     "text": [
      " 60%|██████    | 12/20 [1:19:38<52:54, 396.87s/it]"
     ]
    },
    {
     "name": "stdout",
     "output_type": "stream",
     "text": [
      "Epoch: 13 | train_loss: 0.343 | train_acc: 0.872 | test_loss: 0.188 | test_acc: 0.936\n"
     ]
    },
    {
     "name": "stderr",
     "output_type": "stream",
     "text": [
      " 65%|██████▌   | 13/20 [3:14:45<4:36:21, 2368.85s/it]"
     ]
    },
    {
     "name": "stdout",
     "output_type": "stream",
     "text": [
      "Epoch: 14 | train_loss: 0.330 | train_acc: 0.879 | test_loss: 0.200 | test_acc: 0.930\n"
     ]
    },
    {
     "name": "stderr",
     "output_type": "stream",
     "text": [
      " 70%|███████   | 14/20 [3:21:43<2:57:58, 1779.80s/it]"
     ]
    },
    {
     "name": "stdout",
     "output_type": "stream",
     "text": [
      "Epoch: 15 | train_loss: 0.316 | train_acc: 0.882 | test_loss: 0.166 | test_acc: 0.946\n"
     ]
    },
    {
     "name": "stderr",
     "output_type": "stream",
     "text": [
      " 75%|███████▌  | 15/20 [3:28:37<1:53:59, 1367.92s/it]"
     ]
    },
    {
     "name": "stdout",
     "output_type": "stream",
     "text": [
      "Epoch: 16 | train_loss: 0.315 | train_acc: 0.881 | test_loss: 0.171 | test_acc: 0.938\n"
     ]
    },
    {
     "name": "stderr",
     "output_type": "stream",
     "text": [
      " 80%|████████  | 16/20 [3:35:10<1:11:38, 1074.71s/it]"
     ]
    },
    {
     "name": "stdout",
     "output_type": "stream",
     "text": [
      "Epoch: 17 | train_loss: 0.310 | train_acc: 0.887 | test_loss: 0.161 | test_acc: 0.945\n"
     ]
    },
    {
     "name": "stderr",
     "output_type": "stream",
     "text": [
      " 85%|████████▌ | 17/20 [3:41:45<43:30, 870.29s/it]   "
     ]
    },
    {
     "name": "stdout",
     "output_type": "stream",
     "text": [
      "Epoch: 18 | train_loss: 0.304 | train_acc: 0.891 | test_loss: 0.194 | test_acc: 0.935\n"
     ]
    },
    {
     "name": "stderr",
     "output_type": "stream",
     "text": [
      " 90%|█████████ | 18/20 [3:48:19<24:14, 727.13s/it]"
     ]
    },
    {
     "name": "stdout",
     "output_type": "stream",
     "text": [
      "Epoch: 19 | train_loss: 0.290 | train_acc: 0.894 | test_loss: 0.131 | test_acc: 0.953\n"
     ]
    },
    {
     "name": "stderr",
     "output_type": "stream",
     "text": [
      " 95%|█████████▌| 19/20 [3:54:51<10:26, 626.50s/it]"
     ]
    },
    {
     "name": "stdout",
     "output_type": "stream",
     "text": [
      "Epoch: 20 | train_loss: 0.285 | train_acc: 0.894 | test_loss: 0.213 | test_acc: 0.930\n"
     ]
    },
    {
     "name": "stderr",
     "output_type": "stream",
     "text": [
      "100%|██████████| 20/20 [4:01:25<00:00, 724.26s/it]\n"
     ]
    }
   ],
   "source": [
    "torch.manual_seed(42)\n",
    "torch.cuda.manual_seed(42)\n",
    "import src.engine as engine\n",
    "from timeit import default_timer as timer \n",
    "\n",
    "start_time = timer()\n",
    "results = engine.train(model=model,\n",
    "                        train_dataloader=train_dataloader_augmented,\n",
    "                        test_dataloader=test_dataloader_augmented,\n",
    "                        optimizer=optimizer,\n",
    "                        loss_fn=loss_fn,\n",
    "                        epochs=20,\n",
    "                        device=device)"
   ]
  },
  {
   "cell_type": "code",
   "execution_count": 35,
   "metadata": {},
   "outputs": [],
   "source": [
    "from src.helper_function import plot_loss_curves \n",
    "plot_loss_curves(results)"
   ]
  }
 ],
 "metadata": {
  "kernelspec": {
   "display_name": "Python 3",
   "language": "python",
   "name": "python3"
  },
  "language_info": {
   "codemirror_mode": {
    "name": "ipython",
    "version": 3
   },
   "file_extension": ".py",
   "mimetype": "text/x-python",
   "name": "python",
   "nbconvert_exporter": "python",
   "pygments_lexer": "ipython3",
   "version": "3.10.14"
  }
 },
 "nbformat": 4,
 "nbformat_minor": 2
}
